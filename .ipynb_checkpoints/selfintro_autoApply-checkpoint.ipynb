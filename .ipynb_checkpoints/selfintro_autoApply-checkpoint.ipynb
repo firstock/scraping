{
 "cells": [
  {
   "cell_type": "markdown",
   "metadata": {},
   "source": [
    "타깃: http://www.saramin.co.kr/zf_user/member/suited-recruit-mail/list"
   ]
  },
  {
   "cell_type": "markdown",
   "metadata": {},
   "source": [
    "### ref\n",
    "- http://selenium-python.readthedocs.io/navigating.html\n",
    "- [selenium select option python](https://sqa.stackexchange.com/questions/1355/what-is-the-correct-way-to-select-an-option-using-seleniums-python-webdriver?utm_medium=organic&utm_source=google_rich_qa&utm_campaign=google_rich_qa)\n",
    "\n",
    "- [chrome settings selenium python](https://stackoverflow.com/questions/18026391/setting-chrome-preferences-w-selenium-webdriver-in-python) > chrome driver\n",
    "- [python3 selenium webdriver chrome options download](https://stackoverflow.com/questions/18026391/setting-chrome-preferences-w-selenium-webdriver-in-python?utm_medium=organic&utm_source=google_rich_qa&utm_campaign=google_rich_qa)\n",
    "    - python3? add_experimental_option OKay\n",
    "    - from [chromedriver save location selenium python]\n",
    "- [python os parent path> os.path.abspath](https://docs.python.org/3/library/os.path.html)\n",
    "\n",
    "- [selenium python presence of element xpath](https://stackoverflow.com/questions/39134440/selenium-webdriver-python-find-element-by-xpath-could-not-find-element?utm_medium=organic&utm_source=google_rich_qa&utm_campaign=google_rich_qa)"
   ]
  },
  {
   "cell_type": "markdown",
   "metadata": {},
   "source": [
    "### ref2\n",
    "- [selenium find iframe content](https://stackoverflow.com/questions/24247490/find-elements-inside-forms-and-iframe-using-java-and-selenium-webdriver?utm_medium=organic&utm_source=google_rich_qa&utm_campaign=google_rich_qa)\n",
    "- ['WebDriver' object has no attribute 'switchTo'](https://stackoverflow.com/questions/45831217/function-driver-switchto-frame-not-working-in-selenium?utm_medium=organic&utm_source=google_rich_qa&utm_campaign=google_rich_qa)\n",
    "- [python driver switch iframe parent](https://stackoverflow.com/questions/7534622/selecting-an-iframe-using-python-selenium?utm_medium=organic&utm_source=google_rich_qa&utm_campaign=google_rich_qa)\n",
    "\n",
    "- [multiple class selenium python3](https://stackoverflow.com/questions/46548694/python3-selenium-page-scraping-click-on-multiple-class-element?utm_medium=organic&utm_source=google_rich_qa&utm_campaign=google_rich_qa) driver.find_element_by_css_selector(\".nxm-td.name.lalala-title.clickable\") -적용X. wait엔 css안보여서"
   ]
  },
  {
   "cell_type": "markdown",
   "metadata": {},
   "source": [
    "driver.deepcopy? ㄴㄴ. 브라우저 창 띄워놓은 한, 계속 실행중이라 잠겨있음!\n",
    "- can't pickle _thread.lock objects"
   ]
  },
  {
   "cell_type": "markdown",
   "metadata": {},
   "source": [
    "# 실행코드만"
   ]
  },
  {
   "cell_type": "code",
   "execution_count": 18,
   "metadata": {},
   "outputs": [],
   "source": [
    "from selenium import webdriver\n",
    "from selenium.webdriver.common.by import By\n",
    "from selenium.webdriver.common.keys import Keys\n",
    "\n",
    "from selenium.webdriver.support.ui import WebDriverWait\n",
    "from selenium.webdriver.support import expected_conditions as EC\n",
    "\n",
    "import os.path\n",
    "from os import rename\n",
    "from os import listdir\n",
    "\n",
    "import time\n",
    "\n",
    "# import requests # login 편하게? fail\n",
    "#import copy"
   ]
  },
  {
   "cell_type": "markdown",
   "metadata": {},
   "source": [
    "##### 브라우저 시작"
   ]
  },
  {
   "cell_type": "code",
   "execution_count": 19,
   "metadata": {},
   "outputs": [],
   "source": [
    "def startWeb():\n",
    "    \"\"\"\n",
    "    @return driver\n",
    "    \"\"\"\n",
    "    #options= setDownPath()\n",
    "    driver= webdriver.Chrome('lib/chromedriver.exe')#, chrome_options= options)\n",
    "    url= \"http://www.saramin.co.kr/zf_user/member/suited-recruit-mail/list\"\n",
    "    driver.get(url)\n",
    "\n",
    "    return driver"
   ]
  },
  {
   "cell_type": "markdown",
   "metadata": {},
   "source": [
    "#### 로그인\n",
    "# 하드코딩한거 지우고 깃푸시!"
   ]
  },
  {
   "cell_type": "code",
   "execution_count": 20,
   "metadata": {},
   "outputs": [],
   "source": [
    "def login():\n",
    "    try:\n",
    "        input_id= WebDriverWait(driver, 3).until(\n",
    "            EC.presence_of_element_located((By.XPATH, '//input[@id=\"id\"]'))\n",
    "        )\n",
    "        input_pw= WebDriverWait(driver, 1).until(\n",
    "            EC.presence_of_element_located((By.XPATH, '//input[@id=\"password\"]'))\n",
    "        )\n",
    "        userid= \"loquens20\"\n",
    "        userpw= \"dufwjd#9325\"\n",
    "        input_id.send_keys(userid)\n",
    "        input_pw.send_keys(userpw)\n",
    "\n",
    "        loginBtn= driver.find_element_by_xpath('//button[contains(text(), \"로그인\")]')\n",
    "        loginBtn.click()\n",
    "    except Exception as e:\n",
    "        print('error',e) "
   ]
  },
  {
   "cell_type": "markdown",
   "metadata": {},
   "source": [
    "#### 즉시지원 버튼 리스트"
   ]
  },
  {
   "cell_type": "markdown",
   "metadata": {},
   "source": [
    "이미 지원한 공고 제외하기 ? (고민중)\n",
    "- '즉시지원'버튼을 elements로 받고\n",
    "- '이미 지원한 공고' text를 발견할 때마다 배열인덱스++\n",
    "\n",
    "- '더 보기'한다음에 elements를 또 새로 받아야 하는데.?\n",
    "> 일단 이거 시도 중\n",
    "- 맨처음 돌릴땐 이게 빠를거고, 이틀차부턴 아래 방법이 빠를것"
   ]
  },
  {
   "cell_type": "markdown",
   "metadata": {},
   "source": [
    "혹은\n",
    "- 기지원 공고는 http://www.saramin.co.kr/zf_user/persons/apply-status-list 에서 회사명따와서 list만들기\n",
    "- 다음 클릭할 회사명이 기존 list에 없을 때만, '즉시지원' 클릭"
   ]
  },
  {
   "cell_type": "code",
   "execution_count": 21,
   "metadata": {},
   "outputs": [],
   "source": [
    "def getApplyList():\n",
    "    try:\n",
    "        WebDriverWait(driver, 2).until(\n",
    "            EC.presence_of_element_located((By.XPATH, '//span[@class=\"sri_btn_immediately\"]'))\n",
    "        )\n",
    "        elements= driver.find_elements_by_xpath('//span[@class=\"sri_btn_immediately\"]')\n",
    "        applyLen= len(elements)\n",
    "        print('즉시지원 개수: ',applyLen)\n",
    "        return elements\n",
    "    except Exception as e:\n",
    "        return 'getApplyListError'+e    "
   ]
  },
  {
   "cell_type": "markdown",
   "metadata": {},
   "source": [
    "##### ToDo: 남은 작업\n",
    "- applyList 에서 첫 번째부터 '즉시지원' 클릭"
   ]
  },
  {
   "cell_type": "markdown",
   "metadata": {},
   "source": [
    "#### 즉시지원 버튼 클릭"
   ]
  },
  {
   "cell_type": "code",
   "execution_count": 22,
   "metadata": {},
   "outputs": [],
   "source": [
    "def clickApplyBtn(applyList, index):\n",
    "    #seemore()\n",
    "    applyList[index].click()\n",
    "    \n",
    "    aleady= aleadyApply() \n",
    "    print(aleady)\n",
    "    if not aleady: # 이미 지원한 공고가 아닐 때만\n",
    "        selectPart()\n",
    "        apply()\n",
    "        clickCancel() #지원완료창 종료"
   ]
  },
  {
   "cell_type": "markdown",
   "metadata": {},
   "source": [
    "#### 이미 지원한 공고\n",
    "없으면 넘어가고. driver는 원래대로\n",
    "- driver.switch_to.frame(driver.findElement(By.id(\"iFrameID\"))); #quick_apply_frame\n",
    "- driver.switch_to_default_content()"
   ]
  },
  {
   "cell_type": "code",
   "execution_count": 23,
   "metadata": {},
   "outputs": [],
   "source": [
    "def aleadyApply():\n",
    "    \"\"\"새 창\n",
    "    @error 언제나 false return\n",
    "    \"\"\"\n",
    "    driver.switch_to.frame(driver.find_element_by_id(\"quick_apply_frame\"))\n",
    "    \n",
    "    try:\n",
    "        WebDriverWait(driver, 1).until(\n",
    "            EC.presence_of_element_located((By.XPATH, '//span[@class=\"emph\"]'))\n",
    "        )\n",
    "        print('이미지원한 공고 찾음. 기대값: true')\n",
    "        clickCancel()\n",
    "        driver.switch_to_default_content()\n",
    "        \n",
    "        return True  #왜 무시??\n",
    "    except Exception as e:\n",
    "        driver.switch_to_default_content() # 원래 iframe로 돌아가기\n",
    "        return False\n",
    "        pass"
   ]
  },
  {
   "cell_type": "markdown",
   "metadata": {},
   "source": [
    "#### 입사지원- 지원부문\n",
    "없으면 넘어가고. driver는 원래대로\n",
    "- /descendant::li 이런거 안 먹힘"
   ]
  },
  {
   "cell_type": "code",
   "execution_count": 136,
   "metadata": {},
   "outputs": [],
   "source": [
    "def selectPart():\n",
    "    \"\"\"창의 일부\n",
    "    @error 적용 안되고 있음\n",
    "    \"\"\"\n",
    "    driver.switch_to.frame(driver.find_element_by_id(\"quick_apply_frame\"))\n",
    "    \n",
    "    try:\n",
    "        #선택하세요 클릭\n",
    "        selectPlease= WebDriverWait(driver, 1).until(\n",
    "            EC.presence_of_element_located((By.XPATH, '//블라블라'))\n",
    "        )\n",
    "        # 선택하세요를 클릭해야, 그뒤에 적용할 수 있나????????????????????????????????????? ㅇㅇ not visible이면 클릭안됨\n",
    "        element.find_elements_by_xpath('//ul[@id=\"optSort\"]')\n",
    "        lieles= element.find_elements_by_xpath('//li')\n",
    "        if 1== len(lieles):\n",
    "            lieles[0].click() #지원부문 선택지가 1개인 경우도 있다\n",
    "        lieles[1].click()\n",
    "        \n",
    "    except Exception as e:\n",
    "        pass\n",
    "    driver.switch_to_default_content() # 원래 iframe로 돌아가기\n",
    "    #print('selectPart: 원래frame으로 돌아감')"
   ]
  },
  {
   "cell_type": "markdown",
   "metadata": {},
   "source": [
    "#### test\n",
    "selectPart 안 되는 문제 <<<<<<<<<<<<<<\n",
    "- Message: element not visible"
   ]
  },
  {
   "cell_type": "code",
   "execution_count": 125,
   "metadata": {},
   "outputs": [],
   "source": [
    "# driver.switch_to_default_content()"
   ]
  },
  {
   "cell_type": "code",
   "execution_count": 126,
   "metadata": {},
   "outputs": [],
   "source": [
    "driver.switch_to.frame(driver.find_element_by_id(\"quick_apply_frame\"))"
   ]
  },
  {
   "cell_type": "code",
   "execution_count": 127,
   "metadata": {},
   "outputs": [],
   "source": [
    "ele= driver.find_element_by_xpath('//ul[@id=\"optSort\"]')\n",
    "lieles= driver.find_elements_by_xpath('//li')"
   ]
  },
  {
   "cell_type": "code",
   "execution_count": 128,
   "metadata": {},
   "outputs": [
    {
     "data": {
      "text/plain": [
       "8"
      ]
     },
     "execution_count": 128,
     "metadata": {},
     "output_type": "execute_result"
    }
   ],
   "source": [
    "len(lieles)"
   ]
  },
  {
   "cell_type": "code",
   "execution_count": 131,
   "metadata": {},
   "outputs": [
    {
     "name": "stdout",
     "output_type": "stream",
     "text": [
      "\n",
      "\n",
      "\n",
      "\n",
      "\n",
      "\n",
      "\n",
      "\n"
     ]
    }
   ],
   "source": [
    "for liele in lieles:\n",
    "    print(liele.text)"
   ]
  },
  {
   "cell_type": "code",
   "execution_count": 135,
   "metadata": {},
   "outputs": [
    {
     "ename": "ElementNotVisibleException",
     "evalue": "Message: element not visible\n  (Session info: chrome=66.0.3359.139)\n  (Driver info: chromedriver=2.37.544315 (730aa6a5fdba159ac9f4c1e8cbc59bf1b5ce12b7),platform=Windows NT 10.0.16299 x86_64)\n",
     "output_type": "error",
     "traceback": [
      "\u001b[1;31m---------------------------------------------------------------------------\u001b[0m",
      "\u001b[1;31mElementNotVisibleException\u001b[0m                Traceback (most recent call last)",
      "\u001b[1;32m<ipython-input-135-f25bbf7410c4>\u001b[0m in \u001b[0;36m<module>\u001b[1;34m()\u001b[0m\n\u001b[1;32m----> 1\u001b[1;33m \u001b[0mlieles\u001b[0m\u001b[1;33m[\u001b[0m\u001b[1;36m0\u001b[0m\u001b[1;33m]\u001b[0m\u001b[1;33m.\u001b[0m\u001b[0mclick\u001b[0m\u001b[1;33m(\u001b[0m\u001b[1;33m)\u001b[0m\u001b[1;33m\u001b[0m\u001b[0m\n\u001b[0m",
      "\u001b[1;32m~\\Anaconda3\\lib\\site-packages\\selenium\\webdriver\\remote\\webelement.py\u001b[0m in \u001b[0;36mclick\u001b[1;34m(self)\u001b[0m\n\u001b[0;32m     78\u001b[0m     \u001b[1;32mdef\u001b[0m \u001b[0mclick\u001b[0m\u001b[1;33m(\u001b[0m\u001b[0mself\u001b[0m\u001b[1;33m)\u001b[0m\u001b[1;33m:\u001b[0m\u001b[1;33m\u001b[0m\u001b[0m\n\u001b[0;32m     79\u001b[0m         \u001b[1;34m\"\"\"Clicks the element.\"\"\"\u001b[0m\u001b[1;33m\u001b[0m\u001b[0m\n\u001b[1;32m---> 80\u001b[1;33m         \u001b[0mself\u001b[0m\u001b[1;33m.\u001b[0m\u001b[0m_execute\u001b[0m\u001b[1;33m(\u001b[0m\u001b[0mCommand\u001b[0m\u001b[1;33m.\u001b[0m\u001b[0mCLICK_ELEMENT\u001b[0m\u001b[1;33m)\u001b[0m\u001b[1;33m\u001b[0m\u001b[0m\n\u001b[0m\u001b[0;32m     81\u001b[0m \u001b[1;33m\u001b[0m\u001b[0m\n\u001b[0;32m     82\u001b[0m     \u001b[1;32mdef\u001b[0m \u001b[0msubmit\u001b[0m\u001b[1;33m(\u001b[0m\u001b[0mself\u001b[0m\u001b[1;33m)\u001b[0m\u001b[1;33m:\u001b[0m\u001b[1;33m\u001b[0m\u001b[0m\n",
      "\u001b[1;32m~\\Anaconda3\\lib\\site-packages\\selenium\\webdriver\\remote\\webelement.py\u001b[0m in \u001b[0;36m_execute\u001b[1;34m(self, command, params)\u001b[0m\n\u001b[0;32m    626\u001b[0m             \u001b[0mparams\u001b[0m \u001b[1;33m=\u001b[0m \u001b[1;33m{\u001b[0m\u001b[1;33m}\u001b[0m\u001b[1;33m\u001b[0m\u001b[0m\n\u001b[0;32m    627\u001b[0m         \u001b[0mparams\u001b[0m\u001b[1;33m[\u001b[0m\u001b[1;34m'id'\u001b[0m\u001b[1;33m]\u001b[0m \u001b[1;33m=\u001b[0m \u001b[0mself\u001b[0m\u001b[1;33m.\u001b[0m\u001b[0m_id\u001b[0m\u001b[1;33m\u001b[0m\u001b[0m\n\u001b[1;32m--> 628\u001b[1;33m         \u001b[1;32mreturn\u001b[0m \u001b[0mself\u001b[0m\u001b[1;33m.\u001b[0m\u001b[0m_parent\u001b[0m\u001b[1;33m.\u001b[0m\u001b[0mexecute\u001b[0m\u001b[1;33m(\u001b[0m\u001b[0mcommand\u001b[0m\u001b[1;33m,\u001b[0m \u001b[0mparams\u001b[0m\u001b[1;33m)\u001b[0m\u001b[1;33m\u001b[0m\u001b[0m\n\u001b[0m\u001b[0;32m    629\u001b[0m \u001b[1;33m\u001b[0m\u001b[0m\n\u001b[0;32m    630\u001b[0m     \u001b[1;32mdef\u001b[0m \u001b[0mfind_element\u001b[0m\u001b[1;33m(\u001b[0m\u001b[0mself\u001b[0m\u001b[1;33m,\u001b[0m \u001b[0mby\u001b[0m\u001b[1;33m=\u001b[0m\u001b[0mBy\u001b[0m\u001b[1;33m.\u001b[0m\u001b[0mID\u001b[0m\u001b[1;33m,\u001b[0m \u001b[0mvalue\u001b[0m\u001b[1;33m=\u001b[0m\u001b[1;32mNone\u001b[0m\u001b[1;33m)\u001b[0m\u001b[1;33m:\u001b[0m\u001b[1;33m\u001b[0m\u001b[0m\n",
      "\u001b[1;32m~\\Anaconda3\\lib\\site-packages\\selenium\\webdriver\\remote\\webdriver.py\u001b[0m in \u001b[0;36mexecute\u001b[1;34m(self, driver_command, params)\u001b[0m\n\u001b[0;32m    310\u001b[0m         \u001b[0mresponse\u001b[0m \u001b[1;33m=\u001b[0m \u001b[0mself\u001b[0m\u001b[1;33m.\u001b[0m\u001b[0mcommand_executor\u001b[0m\u001b[1;33m.\u001b[0m\u001b[0mexecute\u001b[0m\u001b[1;33m(\u001b[0m\u001b[0mdriver_command\u001b[0m\u001b[1;33m,\u001b[0m \u001b[0mparams\u001b[0m\u001b[1;33m)\u001b[0m\u001b[1;33m\u001b[0m\u001b[0m\n\u001b[0;32m    311\u001b[0m         \u001b[1;32mif\u001b[0m \u001b[0mresponse\u001b[0m\u001b[1;33m:\u001b[0m\u001b[1;33m\u001b[0m\u001b[0m\n\u001b[1;32m--> 312\u001b[1;33m             \u001b[0mself\u001b[0m\u001b[1;33m.\u001b[0m\u001b[0merror_handler\u001b[0m\u001b[1;33m.\u001b[0m\u001b[0mcheck_response\u001b[0m\u001b[1;33m(\u001b[0m\u001b[0mresponse\u001b[0m\u001b[1;33m)\u001b[0m\u001b[1;33m\u001b[0m\u001b[0m\n\u001b[0m\u001b[0;32m    313\u001b[0m             response['value'] = self._unwrap_value(\n\u001b[0;32m    314\u001b[0m                 response.get('value', None))\n",
      "\u001b[1;32m~\\Anaconda3\\lib\\site-packages\\selenium\\webdriver\\remote\\errorhandler.py\u001b[0m in \u001b[0;36mcheck_response\u001b[1;34m(self, response)\u001b[0m\n\u001b[0;32m    240\u001b[0m                 \u001b[0malert_text\u001b[0m \u001b[1;33m=\u001b[0m \u001b[0mvalue\u001b[0m\u001b[1;33m[\u001b[0m\u001b[1;34m'alert'\u001b[0m\u001b[1;33m]\u001b[0m\u001b[1;33m.\u001b[0m\u001b[0mget\u001b[0m\u001b[1;33m(\u001b[0m\u001b[1;34m'text'\u001b[0m\u001b[1;33m)\u001b[0m\u001b[1;33m\u001b[0m\u001b[0m\n\u001b[0;32m    241\u001b[0m             \u001b[1;32mraise\u001b[0m \u001b[0mexception_class\u001b[0m\u001b[1;33m(\u001b[0m\u001b[0mmessage\u001b[0m\u001b[1;33m,\u001b[0m \u001b[0mscreen\u001b[0m\u001b[1;33m,\u001b[0m \u001b[0mstacktrace\u001b[0m\u001b[1;33m,\u001b[0m \u001b[0malert_text\u001b[0m\u001b[1;33m)\u001b[0m\u001b[1;33m\u001b[0m\u001b[0m\n\u001b[1;32m--> 242\u001b[1;33m         \u001b[1;32mraise\u001b[0m \u001b[0mexception_class\u001b[0m\u001b[1;33m(\u001b[0m\u001b[0mmessage\u001b[0m\u001b[1;33m,\u001b[0m \u001b[0mscreen\u001b[0m\u001b[1;33m,\u001b[0m \u001b[0mstacktrace\u001b[0m\u001b[1;33m)\u001b[0m\u001b[1;33m\u001b[0m\u001b[0m\n\u001b[0m\u001b[0;32m    243\u001b[0m \u001b[1;33m\u001b[0m\u001b[0m\n\u001b[0;32m    244\u001b[0m     \u001b[1;32mdef\u001b[0m \u001b[0m_value_or_default\u001b[0m\u001b[1;33m(\u001b[0m\u001b[0mself\u001b[0m\u001b[1;33m,\u001b[0m \u001b[0mobj\u001b[0m\u001b[1;33m,\u001b[0m \u001b[0mkey\u001b[0m\u001b[1;33m,\u001b[0m \u001b[0mdefault\u001b[0m\u001b[1;33m)\u001b[0m\u001b[1;33m:\u001b[0m\u001b[1;33m\u001b[0m\u001b[0m\n",
      "\u001b[1;31mElementNotVisibleException\u001b[0m: Message: element not visible\n  (Session info: chrome=66.0.3359.139)\n  (Driver info: chromedriver=2.37.544315 (730aa6a5fdba159ac9f4c1e8cbc59bf1b5ce12b7),platform=Windows NT 10.0.16299 x86_64)\n"
     ]
    }
   ],
   "source": [
    "lieles[0].click()"
   ]
  },
  {
   "cell_type": "markdown",
   "metadata": {},
   "source": [
    "#### 입사지원- 파일추가 등등\n",
    "에러> for로 돌렸더니 apply() 진입도 안 한다.."
   ]
  },
  {
   "cell_type": "code",
   "execution_count": 86,
   "metadata": {},
   "outputs": [],
   "source": [
    "def apply():\n",
    "    driver.switch_to.frame(driver.find_element_by_id(\"quick_apply_frame\"))\n",
    "    print('apply iframe찾음')\n",
    "    try:\n",
    "        #파일 추가\n",
    "        addFile= WebDriverWait(driver, 1).until(\n",
    "            EC.presence_of_element_located((By.XPATH, '//a[@class=\"sri_btn_type3 btn_file\"]'))\n",
    "        )\n",
    "        addFile.click()\n",
    "    except Exception as e1:\n",
    "        #print('파일추가없엉')\n",
    "        pass\n",
    "    \n",
    "    try:\n",
    "        #포트폴리오 추가\n",
    "        addPortfolio1= driver.find_element_by_xpath('//input[@id=\"mfile_idx_4314395\"]')\n",
    "        addPortfolio2= driver.find_element_by_xpath('//input[@id=\"mfile_idx_4314365\"]')\n",
    "        #         addPortfolio1= WebDriverWait(driver, 1).until(\n",
    "        #             EC.presence_of_element_located((By.XPATH, '//input[@id=\"mfile_idx_4314395\"]'))\n",
    "        #         )\n",
    "        #         addPortfolio2= WebDriverWait(driver, 1).until(\n",
    "        #             EC.presence_of_element_located((By.XPATH, '//input[@id=\"mfile_idx_4314365\"]'))\n",
    "        #         )\n",
    "        addPortfolio1.click()\n",
    "        addPortfolio2.click()\n",
    "    except Exception as e2:\n",
    "        #print('퐅폴input없엉')\n",
    "        pass\n",
    "    \n",
    "    try:\n",
    "        #완료\n",
    "        submit= driver.find_element_by_xpath('//button[@class=\"sri_btn_complete _attachment_complete_btn\"]')\n",
    "        #         submit= WebDriverWait(driver, 1).until(\n",
    "        #             EC.presence_of_element_located((By.XPATH, '//button[@class=\"sri_btn_complete _attachment_complete_btn\"]'))\n",
    "        #         )\n",
    "        submit.click()\n",
    "    except Exception as e3:\n",
    "        #print('완료없엉')\n",
    "        pass\n",
    "    \n",
    "    try:\n",
    "        #지원하기 sri_btn_apply\n",
    "        applySubmit= driver.find_element_by_xpath('//button[@class=\"sri_btn_apply\"]')\n",
    "        #         applySubmit= WebDriverWait(driver, 1).until(\n",
    "        #             EC.presence_of_element_located((By.XPATH, '//button[@class=\"sri_btn_apply\"]'))\n",
    "        #         )\n",
    "        applySubmit.click()\n",
    "    except Exception as e4:\n",
    "        print('지원하기버튼없엉')\n",
    "        pass\n",
    "    \n",
    "    driver.switch_to_default_content() # 원래 iframe로 돌아가기"
   ]
  },
  {
   "cell_type": "markdown",
   "metadata": {},
   "source": [
    "#### 닫기"
   ]
  },
  {
   "cell_type": "code",
   "execution_count": 26,
   "metadata": {},
   "outputs": [],
   "source": [
    "def clickCancel():\n",
    "    cancel= driver.find_element_by_xpath('//a[@class=\"once_ly_close\"]')\n",
    "    cancel.click()"
   ]
  },
  {
   "cell_type": "markdown",
   "metadata": {},
   "source": [
    "#### test\n",
    "실행후에 어떤 상태인가"
   ]
  },
  {
   "cell_type": "code",
   "execution_count": 149,
   "metadata": {},
   "outputs": [],
   "source": [
    "# applyList[1].click()\n",
    "\n",
    "# clickCancel()\n",
    "\n",
    "# driver.switch_to.frame(driver.find_element_by_id(\"quick_apply_frame\"))\n",
    "\n",
    "# driver.switch_to_default_content()"
   ]
  },
  {
   "cell_type": "markdown",
   "metadata": {},
   "source": [
    "#### 더보기"
   ]
  },
  {
   "cell_type": "code",
   "execution_count": 27,
   "metadata": {},
   "outputs": [],
   "source": [
    "def seemore():\n",
    "    try:\n",
    "        seemore= WebDriverWait(driver, 1).until(\n",
    "            EC.presence_of_element_located((By.XPATH, '//button[@id=\"btn_more_bar\"]'))\n",
    "        )\n",
    "        seemore.click()\n",
    "    except Exception as e3:\n",
    "        pass"
   ]
  },
  {
   "cell_type": "code",
   "execution_count": 114,
   "metadata": {},
   "outputs": [],
   "source": [
    "driver.close()\n",
    "driver.quit()"
   ]
  },
  {
   "cell_type": "code",
   "execution_count": 17,
   "metadata": {},
   "outputs": [],
   "source": [
    "# clickCancel()"
   ]
  },
  {
   "cell_type": "markdown",
   "metadata": {},
   "source": [
    "##### test"
   ]
  },
  {
   "cell_type": "code",
   "execution_count": 115,
   "metadata": {},
   "outputs": [
    {
     "name": "stdout",
     "output_type": "stream",
     "text": [
      "즉시지원 개수:  46\n"
     ]
    }
   ],
   "source": [
    "driver= startWeb()\n",
    "login()\n",
    "applyList= getApplyList()"
   ]
  },
  {
   "cell_type": "code",
   "execution_count": 118,
   "metadata": {},
   "outputs": [
    {
     "name": "stdout",
     "output_type": "stream",
     "text": [
      "False\n",
      "apply iframe찾음\n",
      "지원하기버튼없엉\n"
     ]
    }
   ],
   "source": [
    "index= 25\n",
    "clickApplyBtn(applyList, index)"
   ]
  },
  {
   "cell_type": "code",
   "execution_count": 66,
   "metadata": {
    "scrolled": false
   },
   "outputs": [
    {
     "name": "stdout",
     "output_type": "stream",
     "text": [
      "False\n",
      "selectPart: 원래frame으로 돌아감\n",
      "apply 진입\n",
      "apply iframe찾음\n",
      "지원하기버튼없엉\n"
     ]
    }
   ],
   "source": [
    "index= 27\n",
    "clickApplyBtn(applyList, index)"
   ]
  },
  {
   "cell_type": "markdown",
   "metadata": {},
   "source": [
    "## 실행"
   ]
  },
  {
   "cell_type": "code",
   "execution_count": 14,
   "metadata": {},
   "outputs": [
    {
     "name": "stdout",
     "output_type": "stream",
     "text": [
      "즉시지원 개수:  46\n",
      "이미지원한 공고 찾음. 기대값: true\n",
      "False\n",
      "selectPart: 원래frame으로 돌아감\n"
     ]
    },
    {
     "ename": "TypeError",
     "evalue": "'WebElement' object is not callable",
     "output_type": "error",
     "traceback": [
      "\u001b[1;31m---------------------------------------------------------------------------\u001b[0m",
      "\u001b[1;31mTypeError\u001b[0m                                 Traceback (most recent call last)",
      "\u001b[1;32m<ipython-input-14-7a251bed343e>\u001b[0m in \u001b[0;36m<module>\u001b[1;34m()\u001b[0m\n\u001b[0;32m      6\u001b[0m \u001b[1;32mfor\u001b[0m \u001b[0mindex\u001b[0m \u001b[1;32min\u001b[0m \u001b[0mrange\u001b[0m\u001b[1;33m(\u001b[0m\u001b[0mlenApply\u001b[0m\u001b[1;33m)\u001b[0m\u001b[1;33m:\u001b[0m\u001b[1;33m\u001b[0m\u001b[0m\n\u001b[0;32m      7\u001b[0m     \u001b[1;31m#print(index, apply.text)\u001b[0m\u001b[1;33m\u001b[0m\u001b[1;33m\u001b[0m\u001b[0m\n\u001b[1;32m----> 8\u001b[1;33m     \u001b[0mclickApplyBtn\u001b[0m\u001b[1;33m(\u001b[0m\u001b[0mapplyList\u001b[0m\u001b[1;33m,\u001b[0m \u001b[0mindex\u001b[0m\u001b[1;33m)\u001b[0m\u001b[1;33m\u001b[0m\u001b[0m\n\u001b[0m",
      "\u001b[1;32m<ipython-input-5-156a5fed5672>\u001b[0m in \u001b[0;36mclickApplyBtn\u001b[1;34m(applyList, index)\u001b[0m\n\u001b[0;32m      7\u001b[0m     \u001b[1;32mif\u001b[0m \u001b[1;32mnot\u001b[0m \u001b[0maleady\u001b[0m\u001b[1;33m:\u001b[0m \u001b[1;31m# 이미 지원한 공고가 아닐 때만\u001b[0m\u001b[1;33m\u001b[0m\u001b[0m\n\u001b[0;32m      8\u001b[0m         \u001b[0mselectPart\u001b[0m\u001b[1;33m(\u001b[0m\u001b[1;33m)\u001b[0m\u001b[1;33m\u001b[0m\u001b[0m\n\u001b[1;32m----> 9\u001b[1;33m         \u001b[0mapply\u001b[0m\u001b[1;33m(\u001b[0m\u001b[1;33m)\u001b[0m\u001b[1;33m\u001b[0m\u001b[0m\n\u001b[0m\u001b[0;32m     10\u001b[0m         \u001b[0mclickCancel\u001b[0m\u001b[1;33m(\u001b[0m\u001b[1;33m)\u001b[0m \u001b[1;31m#지원완료창 종료\u001b[0m\u001b[1;33m\u001b[0m\u001b[0m\n",
      "\u001b[1;31mTypeError\u001b[0m: 'WebElement' object is not callable"
     ]
    }
   ],
   "source": [
    "driver= startWeb()\n",
    "login()\n",
    "\n",
    "applyList= getApplyList()\n",
    "lenApply= len(applyList)\n",
    "for index in range(lenApply):\n",
    "    #print(index, apply.text)\n",
    "    clickApplyBtn(applyList, index)\n"
   ]
  },
  {
   "cell_type": "code",
   "execution_count": null,
   "metadata": {},
   "outputs": [],
   "source": []
  },
  {
   "cell_type": "code",
   "execution_count": null,
   "metadata": {},
   "outputs": [],
   "source": []
  },
  {
   "cell_type": "code",
   "execution_count": null,
   "metadata": {},
   "outputs": [],
   "source": []
  },
  {
   "cell_type": "code",
   "execution_count": null,
   "metadata": {},
   "outputs": [],
   "source": []
  },
  {
   "cell_type": "code",
   "execution_count": null,
   "metadata": {},
   "outputs": [],
   "source": [
    "#     time.sleep(4)"
   ]
  },
  {
   "cell_type": "code",
   "execution_count": null,
   "metadata": {},
   "outputs": [],
   "source": [
    "# %save dataScraping_airPollution 47-55"
   ]
  }
 ],
 "metadata": {
  "kernelspec": {
   "display_name": "Python 3",
   "language": "python",
   "name": "python3"
  },
  "language_info": {
   "codemirror_mode": {
    "name": "ipython",
    "version": 3
   },
   "file_extension": ".py",
   "mimetype": "text/x-python",
   "name": "python",
   "nbconvert_exporter": "python",
   "pygments_lexer": "ipython3",
   "version": "3.6.4"
  }
 },
 "nbformat": 4,
 "nbformat_minor": 2
}
