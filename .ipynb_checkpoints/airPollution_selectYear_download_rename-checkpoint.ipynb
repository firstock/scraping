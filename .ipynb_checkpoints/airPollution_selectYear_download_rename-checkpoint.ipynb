{
 "cells": [
  {
   "cell_type": "markdown",
   "metadata": {},
   "source": [
    "#### use: selenium\n",
    "타깃: http://cleanair.seoul.go.kr/air_pollution.htm?method=period"
   ]
  },
  {
   "cell_type": "markdown",
   "metadata": {},
   "source": [
    "### ref\n",
    "- http://selenium-python.readthedocs.io/navigating.html\n",
    "- [selenium select option python](https://sqa.stackexchange.com/questions/1355/what-is-the-correct-way-to-select-an-option-using-seleniums-python-webdriver?utm_medium=organic&utm_source=google_rich_qa&utm_campaign=google_rich_qa)\n",
    "\n",
    "- [chrome settings selenium python](https://stackoverflow.com/questions/18026391/setting-chrome-preferences-w-selenium-webdriver-in-python) > chrome driver\n",
    "- [python3 selenium webdriver chrome options download](https://stackoverflow.com/questions/18026391/setting-chrome-preferences-w-selenium-webdriver-in-python?utm_medium=organic&utm_source=google_rich_qa&utm_campaign=google_rich_qa)\n",
    "    - python3? add_experimental_option OKay\n",
    "    - from [chromedriver save location selenium python]\n",
    "- [python os parent path> os.path.abspath](https://docs.python.org/3/library/os.path.html)\n",
    "\n",
    "- [selenium python presence of element xpath](https://stackoverflow.com/questions/39134440/selenium-webdriver-python-find-element-by-xpath-could-not-find-element?utm_medium=organic&utm_source=google_rich_qa&utm_campaign=google_rich_qa)"
   ]
  },
  {
   "cell_type": "markdown",
   "metadata": {
    "collapsed": true
   },
   "source": [
    "'실행코드만' 밑에 '풀어쓴 코드'가 있으니 run all 말고 영역 실행 권장"
   ]
  },
  {
   "cell_type": "markdown",
   "metadata": {},
   "source": [
    "# 실행코드만"
   ]
  },
  {
   "cell_type": "code",
   "execution_count": 58,
   "metadata": {
    "collapsed": true
   },
   "outputs": [],
   "source": [
    "from selenium import webdriver\n",
    "from selenium.webdriver.common.by import By\n",
    "from selenium.webdriver.common.keys import Keys\n",
    "\n",
    "from selenium.webdriver.support.ui import WebDriverWait\n",
    "from selenium.webdriver.support import expected_conditions as EC\n",
    "\n",
    "import os.path\n",
    "from os import rename\n",
    "from os import listdir\n",
    "\n",
    "import time"
   ]
  },
  {
   "cell_type": "markdown",
   "metadata": {},
   "source": [
    "##### 다운로드 경로 바꾸기"
   ]
  },
  {
   "cell_type": "code",
   "execution_count": 59,
   "metadata": {
    "collapsed": true
   },
   "outputs": [],
   "source": [
    "def setDownPath():\n",
    "    \"\"\"\n",
    "    @return chrome_options\n",
    "    \"\"\"\n",
    "    saveDir= 'data' if ('data' in listdir('.')) else \"\"\n",
    "    downPath= (os.path.abspath('.')+'\\\\'+saveDir).replace('\\\\','/')    \n",
    "    options= webdriver.ChromeOptions() \n",
    "    prefs= {\"download.default_directory\": downPath}\n",
    "    options.add_experimental_option(\"prefs\",prefs)\n",
    "    \n",
    "    return options"
   ]
  },
  {
   "cell_type": "markdown",
   "metadata": {},
   "source": [
    "##### 브라우저 시작"
   ]
  },
  {
   "cell_type": "code",
   "execution_count": 60,
   "metadata": {
    "collapsed": true
   },
   "outputs": [],
   "source": [
    "def startWeb():\n",
    "    \"\"\"\n",
    "    @return driver\n",
    "    \"\"\"\n",
    "    options= setDownPath()\n",
    "    driver= webdriver.Chrome('lib/chromedriver.exe', chrome_options= options)\n",
    "    url= \"http://cleanair.seoul.go.kr/air_pollution.htm?method=period\"\n",
    "    driver.get(url)\n",
    "    \n",
    "    return driver"
   ]
  },
  {
   "cell_type": "markdown",
   "metadata": {},
   "source": [
    "##### 연도, 월, 일 선택\n",
    "'' 사이에 값은 꼭 \"\"로 넣어줘야"
   ]
  },
  {
   "cell_type": "code",
   "execution_count": 61,
   "metadata": {
    "collapsed": true
   },
   "outputs": [],
   "source": [
    "def set_input(xpath_id, sendKeys):\n",
    "    myXpath= '//input[@id=\"'+xpath_id+'\"]'\n",
    "    element= driver.find_element_by_xpath(myXpath)\n",
    "    element.clear()\n",
    "    element.send_keys(sendKeys)"
   ]
  },
  {
   "cell_type": "code",
   "execution_count": 62,
   "metadata": {
    "collapsed": true
   },
   "outputs": [],
   "source": [
    "def set_input_year(year):\n",
    "    set_input(\"measure_cal1\", year)\n",
    "    set_input(\"measure_cal2\", year)"
   ]
  },
  {
   "cell_type": "markdown",
   "metadata": {},
   "source": [
    "##### 검색 버튼 클릭"
   ]
  },
  {
   "cell_type": "code",
   "execution_count": 63,
   "metadata": {
    "collapsed": true
   },
   "outputs": [],
   "source": [
    "def clickSearchBtn(driver):\n",
    "    element= driver.find_element_by_xpath('//p[@class=\"schBtn1\"]')\n",
    "    element.click()"
   ]
  },
  {
   "cell_type": "markdown",
   "metadata": {},
   "source": [
    "##### 엑셀버튼 클릭== 다운로드"
   ]
  },
  {
   "cell_type": "code",
   "execution_count": 64,
   "metadata": {
    "collapsed": true
   },
   "outputs": [],
   "source": [
    "def clickExcelDownBtn(driver):\n",
    "    try:\n",
    "        element= WebDriverWait(driver, 10).until(\n",
    "            EC.presence_of_element_located((By.XPATH, '//span[@class=\"exl_btn\"]/a'))\n",
    "        )\n",
    "    except Exception as e:\n",
    "        print('error',e)\n",
    "\n",
    "    element.click()\n",
    "    time.sleep(4)"
   ]
  },
  {
   "cell_type": "markdown",
   "metadata": {},
   "source": [
    "#### 파일명 변경"
   ]
  },
  {
   "cell_type": "code",
   "execution_count": 65,
   "metadata": {
    "collapsed": true
   },
   "outputs": [],
   "source": [
    "def renameDownFile(year):\n",
    "    for filename in listdir('data/'):\n",
    "        if EXCEL_FILENAME == filename:\n",
    "            rename('data/'+filename, 'data/airPollution_'+year+'.htm')"
   ]
  },
  {
   "cell_type": "markdown",
   "metadata": {},
   "source": [
    "## 실행"
   ]
  },
  {
   "cell_type": "code",
   "execution_count": 66,
   "metadata": {
    "collapsed": true
   },
   "outputs": [],
   "source": [
    "driver= startWeb()\n",
    "\n",
    "EXCEL_FILENAME= \"ExcelData.xls\"\n",
    "\n",
    "years= [\"2016\", \"2017\"]\n",
    "for year in years:\n",
    "    set_input_year(year)\n",
    "    clickSearchBtn(driver)\n",
    "    clickExcelDownBtn(driver)\n",
    "    renameDownFile(year)\n",
    "    \n",
    "driver.close()\n",
    "driver.quit()"
   ]
  },
  {
   "cell_type": "code",
   "execution_count": 67,
   "metadata": {
    "collapsed": true
   },
   "outputs": [],
   "source": [
    "# %save dataScraping_airPollution 47-55"
   ]
  },
  {
   "cell_type": "code",
   "execution_count": null,
   "metadata": {
    "collapsed": true
   },
   "outputs": [],
   "source": []
  },
  {
   "cell_type": "markdown",
   "metadata": {},
   "source": [
    "---"
   ]
  },
  {
   "cell_type": "markdown",
   "metadata": {},
   "source": [
    "---"
   ]
  },
  {
   "cell_type": "markdown",
   "metadata": {},
   "source": [
    "---"
   ]
  },
  {
   "cell_type": "markdown",
   "metadata": {},
   "source": [
    "---"
   ]
  },
  {
   "cell_type": "code",
   "execution_count": null,
   "metadata": {
    "collapsed": true
   },
   "outputs": [],
   "source": []
  },
  {
   "cell_type": "code",
   "execution_count": null,
   "metadata": {
    "collapsed": true
   },
   "outputs": [],
   "source": []
  },
  {
   "cell_type": "markdown",
   "metadata": {},
   "source": [
    "## 풀어쓴 코드"
   ]
  },
  {
   "cell_type": "code",
   "execution_count": 68,
   "metadata": {
    "collapsed": true
   },
   "outputs": [],
   "source": [
    "from selenium import webdriver\n",
    "from selenium.webdriver.common.by import By\n",
    "from selenium.webdriver.common.keys import Keys"
   ]
  },
  {
   "cell_type": "code",
   "execution_count": 69,
   "metadata": {
    "collapsed": true
   },
   "outputs": [],
   "source": [
    "from selenium.webdriver.support.ui import WebDriverWait\n",
    "from selenium.webdriver.support import expected_conditions as EC"
   ]
  },
  {
   "cell_type": "code",
   "execution_count": 70,
   "metadata": {
    "collapsed": true
   },
   "outputs": [],
   "source": [
    "import os.path\n",
    "from os import rename\n",
    "from os import listdir"
   ]
  },
  {
   "cell_type": "code",
   "execution_count": 71,
   "metadata": {
    "collapsed": true
   },
   "outputs": [],
   "source": [
    "import time"
   ]
  },
  {
   "cell_type": "markdown",
   "metadata": {},
   "source": [
    "##### 다운로드 경로 바꾸기\n",
    "webdriver.ChromeOptions().add_experimental_option(\"prefs\",딕셔)"
   ]
  },
  {
   "cell_type": "markdown",
   "metadata": {},
   "source": [
    "현재 폴더에 data폴더가 있으면 data, 없으면 현재위치 그대로"
   ]
  },
  {
   "cell_type": "code",
   "execution_count": 72,
   "metadata": {
    "collapsed": true
   },
   "outputs": [],
   "source": [
    "saveDir= 'data' if ('data' in listdir('.')) else \"\"\n",
    "# saveDir"
   ]
  },
  {
   "cell_type": "code",
   "execution_count": 73,
   "metadata": {
    "collapsed": true
   },
   "outputs": [],
   "source": [
    "downPath= (os.path.abspath('.')+'\\\\'+saveDir).replace('\\\\','/')"
   ]
  },
  {
   "cell_type": "code",
   "execution_count": 74,
   "metadata": {
    "collapsed": true
   },
   "outputs": [],
   "source": [
    "# downPath"
   ]
  },
  {
   "cell_type": "code",
   "execution_count": 75,
   "metadata": {
    "collapsed": true
   },
   "outputs": [],
   "source": [
    "# \"download.default_directory=\"+downPath"
   ]
  },
  {
   "cell_type": "code",
   "execution_count": 76,
   "metadata": {
    "collapsed": true
   },
   "outputs": [],
   "source": [
    "options= webdriver.ChromeOptions() \n",
    "prefs= {\"download.default_directory\": downPath}\n",
    "options.add_experimental_option(\"prefs\",prefs)"
   ]
  },
  {
   "cell_type": "markdown",
   "metadata": {},
   "source": [
    "##### 브라우저 시작"
   ]
  },
  {
   "cell_type": "code",
   "execution_count": 77,
   "metadata": {
    "collapsed": true
   },
   "outputs": [],
   "source": [
    "driver= webdriver.Chrome('lib/chromedriver.exe', chrome_options= options)"
   ]
  },
  {
   "cell_type": "code",
   "execution_count": 78,
   "metadata": {
    "collapsed": true
   },
   "outputs": [],
   "source": [
    "url= \"http://cleanair.seoul.go.kr/air_pollution.htm?method=period\"\n",
    "driver.get(url)"
   ]
  },
  {
   "cell_type": "markdown",
   "metadata": {},
   "source": [
    "##### 연도, 월, 일 선택\n",
    "'' 사이에 값은 꼭 \"\"로 넣어줘야"
   ]
  },
  {
   "cell_type": "code",
   "execution_count": 79,
   "metadata": {
    "collapsed": true
   },
   "outputs": [],
   "source": [
    "def set_input(element, xpath_id, sendKeys):\n",
    "    myXpath= '//input[@id=\"'+xpath_id+'\"]'\n",
    "    element= driver.find_element_by_xpath(myXpath)\n",
    "    element.clear()\n",
    "    element.send_keys(sendKeys)"
   ]
  },
  {
   "cell_type": "code",
   "execution_count": 80,
   "metadata": {},
   "outputs": [
    {
     "ename": "NameError",
     "evalue": "name 'element' is not defined",
     "output_type": "error",
     "traceback": [
      "\u001b[1;31m---------------------------------------------------------------------------\u001b[0m",
      "\u001b[1;31mNameError\u001b[0m                                 Traceback (most recent call last)",
      "\u001b[1;32m<ipython-input-80-374f942cf5c8>\u001b[0m in \u001b[0;36m<module>\u001b[1;34m()\u001b[0m\n\u001b[0;32m      1\u001b[0m \u001b[0mxpath_id_input\u001b[0m\u001b[1;33m=\u001b[0m \u001b[1;34m\"measure_cal1\"\u001b[0m\u001b[1;33m\u001b[0m\u001b[0m\n\u001b[0;32m      2\u001b[0m \u001b[0msendKeys_year\u001b[0m\u001b[1;33m=\u001b[0m \u001b[1;36m2016\u001b[0m\u001b[1;33m\u001b[0m\u001b[0m\n\u001b[1;32m----> 3\u001b[1;33m \u001b[0mset_input\u001b[0m\u001b[1;33m(\u001b[0m\u001b[0melement\u001b[0m\u001b[1;33m,\u001b[0m \u001b[0mxpath_id_input\u001b[0m\u001b[1;33m,\u001b[0m \u001b[0msendKeys_year\u001b[0m\u001b[1;33m)\u001b[0m\u001b[1;33m\u001b[0m\u001b[0m\n\u001b[0m",
      "\u001b[1;31mNameError\u001b[0m: name 'element' is not defined"
     ]
    }
   ],
   "source": [
    "xpath_id_input= \"measure_cal1\"\n",
    "sendKeys_year= 2016\n",
    "set_input(element, xpath_id_input, sendKeys_year)"
   ]
  },
  {
   "cell_type": "code",
   "execution_count": null,
   "metadata": {
    "collapsed": true
   },
   "outputs": [],
   "source": [
    "xpath_id_input= \"measure_cal2\"\n",
    "sendKeys_year= 2016\n",
    "set_input(element, xpath_id_input, sendKeys_year)"
   ]
  },
  {
   "cell_type": "code",
   "execution_count": null,
   "metadata": {
    "collapsed": true
   },
   "outputs": [],
   "source": [
    "# # 01,01, 12, 31이 기본값이라 굳이 넣어줄 필요는 X\n",
    "# xpath_id_user= \"measure_cal1Month\"\n",
    "# sendKeys_user= \"01\"\n",
    "\n",
    "# set_input(element, xpath_id_user, sendKeys_user)\n",
    "\n",
    "# xpath_id_user= \"measure_cal1Day\"\n",
    "# sendKeys_user= \"01\"\n",
    "\n",
    "# xpath_id_user= \"measure_cal2Month\"\n",
    "# sendKeys_user= \"12\"\n",
    "# xpath_id_user= \"measure_cal2Day\"\n",
    "# sendKeys_user= \"31\""
   ]
  },
  {
   "cell_type": "markdown",
   "metadata": {},
   "source": [
    "##### 검색 버튼 클릭"
   ]
  },
  {
   "cell_type": "code",
   "execution_count": null,
   "metadata": {
    "collapsed": true
   },
   "outputs": [],
   "source": [
    "element= driver.find_element_by_xpath('//p[@class=\"schBtn1\"]')\n",
    "element.click()"
   ]
  },
  {
   "cell_type": "markdown",
   "metadata": {},
   "source": [
    "###### 페이징& 테이블 하나하나?\n",
    "물론 가능하겠지만, 페이지가 366개다. 너무 느리니, 기왕있는 엑셀버튼을 활용하자"
   ]
  },
  {
   "cell_type": "code",
   "execution_count": null,
   "metadata": {
    "collapsed": true
   },
   "outputs": [],
   "source": [
    "# # 칼럼\n",
    "# element= driver.find_element_by_xpath('//table[@class=\"tbl1\"]/thead')\n",
    "# ths= element.find_elements_by_tag_name(\"th\")\n",
    "# for th in ths:\n",
    "#     print(th.text)\n",
    "\n",
    "# # 인덱스:구분\n",
    "# element= driver.find_element_by_xpath('//table[@class=\"tbl1\"]/tbody')\n",
    "# ths= element.find_elements_by_tag_name(\"th\")\n",
    "# for th in ths:\n",
    "#     print(th.text)"
   ]
  },
  {
   "cell_type": "code",
   "execution_count": null,
   "metadata": {
    "collapsed": true
   },
   "outputs": [],
   "source": [
    "# 연습은 되겠지\n",
    "# # 페이징\n",
    "# pageEnd= 1\n",
    "# for page in range(1,pageEnd+1): \n",
    "#     try:\n",
    "#         # JS 구동하기\n",
    "#         driver.execute_script(\"searchModule.SetCategoryList(%s, '')\"%page)\n",
    "#         #페이지 파바바박 방지. 강제로 쉬기\n",
    "#         time.sleep(2) #sec\n",
    "#         print('잘되고 있니',page)\n",
    "#         ##### 내용 가져오기\n",
    "#         # 변수 파악. 여러 사이트 비교해서 table 칼럼 '잘 정의'하기\n",
    "#         # 상품명, 코멘트, 기간1, 기간2, 가격, 평점, 썸네일, 링크(상품상세정보)\n",
    "#         boxItems= driver.find_elements_by_css_selector('.oTravelBox>.boxList>li')"
   ]
  },
  {
   "cell_type": "markdown",
   "metadata": {},
   "source": [
    "##### 엑셀버튼 클릭== 다운로드\n",
    "다운 받을거 파일명? 페이지에서 찾을수없어, 하드코딩"
   ]
  },
  {
   "cell_type": "code",
   "execution_count": null,
   "metadata": {
    "collapsed": true
   },
   "outputs": [],
   "source": [
    "# 지정 1개 요소가 나타날때까지 최대 10초 기다리고\n",
    "# 나타나지 않으면 다음줄로 넘어가지 않음\n",
    "try:\n",
    "    element= WebDriverWait(driver, 10).until(\n",
    "        \n",
    "        EC.presence_of_element_located((By.XPATH, '//span[@class=\"exl_btn\"]/a'))\n",
    "    )\n",
    "except Exception as e:\n",
    "    print('error',e)\n",
    "    \n",
    "# element= driver.find_element_by_xpath('//span[@class=\"exl_btn\"]/a')\n",
    "element.click()"
   ]
  },
  {
   "cell_type": "code",
   "execution_count": null,
   "metadata": {
    "collapsed": true
   },
   "outputs": [],
   "source": [
    "EXCEL_FILENAME= \"ExcelData.xls\""
   ]
  },
  {
   "cell_type": "markdown",
   "metadata": {},
   "source": [
    "#### 파일명 변경"
   ]
  },
  {
   "cell_type": "code",
   "execution_count": null,
   "metadata": {},
   "outputs": [],
   "source": [
    "YEAR= str(sendKeys_year)\n",
    "YEAR"
   ]
  },
  {
   "cell_type": "code",
   "execution_count": null,
   "metadata": {
    "collapsed": true
   },
   "outputs": [],
   "source": [
    "# downPath"
   ]
  },
  {
   "cell_type": "markdown",
   "metadata": {},
   "source": [
    "###### 다운로드는 기다려야..\n",
    "절대적 대기"
   ]
  },
  {
   "cell_type": "code",
   "execution_count": null,
   "metadata": {
    "collapsed": true
   },
   "outputs": [],
   "source": [
    "time.sleep(4)"
   ]
  },
  {
   "cell_type": "code",
   "execution_count": null,
   "metadata": {
    "collapsed": true
   },
   "outputs": [],
   "source": [
    "for filename in listdir('data/'):\n",
    "    if EXCEL_FILENAME == filename:\n",
    "        rename('data/'+filename, 'data/'+YEAR+'_airPollution.htm')"
   ]
  },
  {
   "cell_type": "code",
   "execution_count": null,
   "metadata": {
    "collapsed": true
   },
   "outputs": [],
   "source": []
  },
  {
   "cell_type": "markdown",
   "metadata": {},
   "source": [
    "---"
   ]
  },
  {
   "cell_type": "markdown",
   "metadata": {},
   "source": [
    "---"
   ]
  },
  {
   "cell_type": "markdown",
   "metadata": {},
   "source": [
    "---"
   ]
  },
  {
   "cell_type": "markdown",
   "metadata": {},
   "source": [
    "---"
   ]
  }
 ],
 "metadata": {
  "kernelspec": {
   "display_name": "Python 3",
   "language": "python",
   "name": "python3"
  },
  "language_info": {
   "codemirror_mode": {
    "name": "ipython",
    "version": 3
   },
   "file_extension": ".py",
   "mimetype": "text/x-python",
   "name": "python",
   "nbconvert_exporter": "python",
   "pygments_lexer": "ipython3",
   "version": "3.6.4"
  }
 },
 "nbformat": 4,
 "nbformat_minor": 2
}
