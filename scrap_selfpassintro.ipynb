{
 "cells": [
  {
   "cell_type": "code",
   "execution_count": null,
   "metadata": {
    "collapsed": true
   },
   "outputs": [],
   "source": [
    "from selenium import webdriver\n",
    "from selenium.webdriver.common.by import By\n",
    "from selenium.webdriver.common.keys import Keys\n",
    "\n",
    "from selenium.webdriver.support.ui import WebDriverWait\n",
    "from selenium.webdriver.support import expected_conditions as EC\n",
    "\n",
    "import os.path\n",
    "from os import rename\n",
    "from os import listdir\n",
    "\n",
    "import time\n",
    "import csv\n",
    "\n",
    "import re"
   ]
  },
  {
   "cell_type": "code",
   "execution_count": null,
   "metadata": {
    "collapsed": true
   },
   "outputs": [],
   "source": [
    "# 인자: 여러개 동시에 띄울걸 감안해서?\n",
    "def startWeb(numPage=1):\n",
    "    \"\"\"\n",
    "    @return driver\n",
    "    \"\"\"\n",
    "    driver= webdriver.Chrome('lib/chromedriver.exe')\n",
    "    url= \"http://www.saramin.co.kr/zf_user/public-recruit/coverletter-list/page/\"+str(numPage)+\"?company_nm=\"\n",
    "    driver.get(url)\n",
    "    \n",
    "    return driver"
   ]
  },
  {
   "cell_type": "code",
   "execution_count": null,
   "metadata": {
    "collapsed": true
   },
   "outputs": [],
   "source": [
    "def movePage(numPage):\n",
    "    url= \"http://www.saramin.co.kr/zf_user/public-recruit/coverletter-list/page/\"+str(numPage)+\"?company_nm=\"\n",
    "    driver.get(url)\n",
    "    try:\n",
    "        element= WebDriverWait(driver, 10).until(\n",
    "            # is coming a content?\n",
    "            EC.presence_of_element_located((By.XPATH, '//h2'))\n",
    "        )\n",
    "    except Exception as e:\n",
    "        print('error',e)"
   ]
  },
  {
   "cell_type": "code",
   "execution_count": null,
   "metadata": {
    "collapsed": true
   },
   "outputs": [],
   "source": [
    "def saveLink(dict_pass):\n",
    "    elements= driver.find_elements_by_xpath('//h2')\n",
    "    #dict_pass= dict([])\n",
    "    for element in elements:\n",
    "        dict_pass[element.text]= element.find_element_by_xpath('a').get_attribute('href')\n",
    "        #print(i, element.text)\n",
    "        #print(element.find_element_by_xpath('a').get_attribute('href'))\n",
    "    return dict_pass"
   ]
  },
  {
   "cell_type": "code",
   "execution_count": null,
   "metadata": {
    "collapsed": true
   },
   "outputs": [],
   "source": [
    "def movePageLink(link):\n",
    "    driver.get(link)\n",
    "    try:\n",
    "        element= WebDriverWait(driver, 10).until(\n",
    "            # is coming a content?\n",
    "            EC.presence_of_element_located((By.XPATH, '//li'))\n",
    "        )\n",
    "    except Exception as e:\n",
    "        print('error',e)"
   ]
  },
  {
   "cell_type": "code",
   "execution_count": null,
   "metadata": {
    "collapsed": true
   },
   "outputs": [],
   "source": [
    "def getContent():\n",
    "    \"\"\"\n",
    "    @return element_txt, element_duty\n",
    "    @except 지원분야가 써있지 않은 페이지?\n",
    "    \"\"\"\n",
    "    try:\n",
    "        elementCon= WebDriverWait(driver, 3).until(\n",
    "            # is coming a content?\n",
    "            EC.presence_of_element_located((By.XPATH, '//div[@class=\"box_ty3\"]'))\n",
    "        )\n",
    "        element_txt= rmSpecialChr(elementCon.text)\n",
    "    except Exception as e:\n",
    "        print('error',e)\n",
    "        \n",
    "    try:\n",
    "        elementDu= WebDriverWait(driver, 1).until(\n",
    "            # is coming a content?\n",
    "            EC.presence_of_element_located((By.XPATH, '//span[@class=\"tag_apply\"]'))\n",
    "        )\n",
    "        element_duty= rmSpecialChr(elementDu.text)\n",
    "    except Exception as e:\n",
    "        element_duty= '지원분야 공통'\n",
    "        pass\n",
    "    \n",
    "    #element_txt= driver.find_element_by_xpath('//div[@class=\"box_ty3\"]').text\n",
    "    #element_duty= driver.find_element_by_xpath('//span[@class=\"tag_apply\"]').text\n",
    "    \n",
    "    return element_txt, element_duty"
   ]
  },
  {
   "cell_type": "code",
   "execution_count": null,
   "metadata": {
    "collapsed": true
   },
   "outputs": [],
   "source": [
    "def rmSpecialChr(weirdStr):\n",
    "    \"\"\"\n",
    "    @param string\n",
    "    @return string. #특문제거, \\n -> 띟띟띟\n",
    "    \"\"\"\n",
    "    regPattLine= '\\n'\n",
    "    res= re.sub(regPattLine,'띟띟띟',weirdStr)\n",
    "    regPatt= '[^ㄱ-ㅎㅏ-ㅣ가-힣a-zA-Z0-9()\": ]|[[\\u3131-\\u318E\\uAC00-\\uD7A3]]'\n",
    "    res= re.sub(regPatt,'',res)\n",
    "    return res"
   ]
  },
  {
   "cell_type": "code",
   "execution_count": null,
   "metadata": {
    "collapsed": true
   },
   "outputs": [],
   "source": [
    "with open('data/passLink.csv', 'r') as csv_file:\n",
    "    reader = csv.reader(csv_file)\n",
    "    dickLinksRead = dict(reader)\n",
    "len(dickLinksRead)\n",
    "driver= startWeb()\n",
    "dictContents= dict([])"
   ]
  },
  {
   "cell_type": "code",
   "execution_count": null,
   "metadata": {
    "collapsed": true
   },
   "outputs": [],
   "source": [
    "for i, (toJob, link) in enumerate(dickLinksRead.items()):\n",
    "    #if (62< i) and (78>=i):\n",
    "    print(i)#, toJob, link)\n",
    "    movePageLink(link)\n",
    "    selfintro, duty= getContent()\n",
    "    dictContents[toJob+' '+duty]= selfintro\n",
    "dictContents"
   ]
  },
  {
   "cell_type": "code",
   "execution_count": null,
   "metadata": {
    "collapsed": true
   },
   "outputs": [],
   "source": [
    "with open('data/passContents.csv', 'w', newline='', encoding='cp949') as csv_file:\n",
    "    writer = csv.writer(csv_file)\n",
    "    for key, value in dictContents.items():\n",
    "        writer.writerow([key, value])"
   ]
  }
 ],
 "metadata": {
  "kernelspec": {
   "display_name": "Python 3",
   "language": "python",
   "name": "python3"
  },
  "language_info": {
   "codemirror_mode": {
    "name": "ipython",
    "version": 3
   },
   "file_extension": ".py",
   "mimetype": "text/x-python",
   "name": "python",
   "nbconvert_exporter": "python",
   "pygments_lexer": "ipython3",
   "version": "3.6.3"
  }
 },
 "nbformat": 4,
 "nbformat_minor": 2
}
