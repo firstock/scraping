{
 "cells": [
  {
   "cell_type": "markdown",
   "metadata": {},
   "source": [
    "타깃: http://www.saramin.co.kr/zf_user/member/suited-recruit-mail/list"
   ]
  },
  {
   "cell_type": "markdown",
   "metadata": {},
   "source": [
    "### ref\n",
    "- http://selenium-python.readthedocs.io/navigating.html\n",
    "- [selenium select option python](https://sqa.stackexchange.com/questions/1355/what-is-the-correct-way-to-select-an-option-using-seleniums-python-webdriver?utm_medium=organic&utm_source=google_rich_qa&utm_campaign=google_rich_qa)\n",
    "\n",
    "- [chrome settings selenium python](https://stackoverflow.com/questions/18026391/setting-chrome-preferences-w-selenium-webdriver-in-python) > chrome driver\n",
    "- [python3 selenium webdriver chrome options download](https://stackoverflow.com/questions/18026391/setting-chrome-preferences-w-selenium-webdriver-in-python?utm_medium=organic&utm_source=google_rich_qa&utm_campaign=google_rich_qa)\n",
    "    - python3? add_experimental_option OKay\n",
    "    - from [chromedriver save location selenium python]\n",
    "- [python os parent path> os.path.abspath](https://docs.python.org/3/library/os.path.html)\n",
    "\n",
    "- [selenium python presence of element xpath](https://stackoverflow.com/questions/39134440/selenium-webdriver-python-find-element-by-xpath-could-not-find-element?utm_medium=organic&utm_source=google_rich_qa&utm_campaign=google_rich_qa)"
   ]
  },
  {
   "cell_type": "markdown",
   "metadata": {},
   "source": [
    "### ref2\n",
    "- [selenium find iframe content](https://stackoverflow.com/questions/24247490/find-elements-inside-forms-and-iframe-using-java-and-selenium-webdriver?utm_medium=organic&utm_source=google_rich_qa&utm_campaign=google_rich_qa)\n",
    "- ['WebDriver' object has no attribute 'switchTo'](https://stackoverflow.com/questions/45831217/function-driver-switchto-frame-not-working-in-selenium?utm_medium=organic&utm_source=google_rich_qa&utm_campaign=google_rich_qa)\n",
    "- [python driver switch iframe parent](https://stackoverflow.com/questions/7534622/selecting-an-iframe-using-python-selenium?utm_medium=organic&utm_source=google_rich_qa&utm_campaign=google_rich_qa)\n",
    "\n",
    "- [multiple class selenium python3](https://stackoverflow.com/questions/46548694/python3-selenium-page-scraping-click-on-multiple-class-element?utm_medium=organic&utm_source=google_rich_qa&utm_campaign=google_rich_qa) driver.find_element_by_css_selector(\".nxm-td.name.lalala-title.clickable\") -적용X. wait엔 css안보여서"
   ]
  },
  {
   "cell_type": "markdown",
   "metadata": {},
   "source": [
    "driver.deepcopy? ㄴㄴ. 브라우저 창 띄워놓은 한, 계속 실행중이라 잠겨있음!\n",
    "- can't pickle _thread.lock objects"
   ]
  },
  {
   "cell_type": "markdown",
   "metadata": {},
   "source": [
    "# 실행코드만"
   ]
  },
  {
   "cell_type": "code",
   "execution_count": 1,
   "metadata": {},
   "outputs": [],
   "source": [
    "from selenium import webdriver\n",
    "from selenium.webdriver.common.by import By\n",
    "from selenium.webdriver.common.keys import Keys\n",
    "\n",
    "from selenium.webdriver.support.ui import WebDriverWait\n",
    "from selenium.webdriver.support import expected_conditions as EC\n",
    "\n",
    "import os.path\n",
    "from os import rename\n",
    "from os import listdir\n",
    "\n",
    "import time\n",
    "\n",
    "# import requests # login 편하게? fail\n",
    "#import copy"
   ]
  },
  {
   "cell_type": "markdown",
   "metadata": {},
   "source": [
    "##### 브라우저 시작"
   ]
  },
  {
   "cell_type": "code",
   "execution_count": 2,
   "metadata": {},
   "outputs": [],
   "source": [
    "def startWeb():\n",
    "    \"\"\"\n",
    "    @return driver\n",
    "    \"\"\"\n",
    "    #options= setDownPath()\n",
    "    driver= webdriver.Chrome('lib/chromedriver.exe')#, chrome_options= options)\n",
    "    url= \"http://www.saramin.co.kr/zf_user/member/suited-recruit-mail/list\"\n",
    "    driver.get(url)\n",
    "\n",
    "    return driver"
   ]
  },
  {
   "cell_type": "markdown",
   "metadata": {},
   "source": [
    "#### 로그인\n",
    "# 하드코딩한거 지우고 깃푸시!"
   ]
  },
  {
   "cell_type": "code",
   "execution_count": 3,
   "metadata": {},
   "outputs": [],
   "source": [
    "def login():\n",
    "    try:\n",
    "        input_id= WebDriverWait(driver, 3).until(\n",
    "            EC.presence_of_element_located((By.XPATH, '//input[@id=\"id\"]'))\n",
    "        )\n",
    "        input_pw= WebDriverWait(driver, 1).until(\n",
    "            EC.presence_of_element_located((By.XPATH, '//input[@id=\"password\"]'))\n",
    "        )\n",
    "        userid= \"\"\n",
    "        userpw= \"\"\n",
    "        input_id.send_keys(userid)\n",
    "        input_pw.send_keys(userpw)\n",
    "\n",
    "        loginBtn= driver.find_element_by_xpath('//button[contains(text(), \"로그인\")]')\n",
    "        loginBtn.click()\n",
    "    except Exception as e:\n",
    "        print('error',e) "
   ]
  },
  {
   "cell_type": "markdown",
   "metadata": {},
   "source": [
    "#### 즉시지원 버튼 리스트"
   ]
  },
  {
   "cell_type": "markdown",
   "metadata": {},
   "source": [
    "이미 지원한 공고 제외하기 ? (고민중)\n",
    "- '즉시지원'버튼을 elements로 받고\n",
    "- '이미 지원한 공고' text를 발견할 때마다 배열인덱스++\n",
    "\n",
    "- '더 보기'한다음에 elements를 또 새로 받아야 하는데.?\n",
    "> 일단 이거 시도 중\n",
    "- 맨처음 돌릴땐 이게 빠를거고, 이틀차부턴 아래 방법이 빠를것"
   ]
  },
  {
   "cell_type": "markdown",
   "metadata": {},
   "source": [
    "혹은\n",
    "- 기지원 공고는 http://www.saramin.co.kr/zf_user/persons/apply-status-list 에서 회사명따와서 list만들기\n",
    "- 다음 클릭할 회사명이 기존 list에 없을 때만, '즉시지원' 클릭"
   ]
  },
  {
   "cell_type": "code",
   "execution_count": 4,
   "metadata": {},
   "outputs": [],
   "source": [
    "def getApplyList():\n",
    "    try:\n",
    "        WebDriverWait(driver, 2).until(\n",
    "            EC.presence_of_element_located((By.XPATH, '//span[@class=\"sri_btn_immediately\"]'))\n",
    "        )\n",
    "        elements= driver.find_elements_by_xpath('//span[@class=\"sri_btn_immediately\"]')\n",
    "        applyLen= len(elements)\n",
    "        print('즉시지원 개수: ',applyLen)\n",
    "        return elements\n",
    "    except Exception as e:\n",
    "        return 'getApplyListError'+e    "
   ]
  },
  {
   "cell_type": "markdown",
   "metadata": {},
   "source": [
    "##### ToDo: 남은 작업\n",
    "- applyList 에서 첫 번째부터 '즉시지원' 클릭"
   ]
  },
  {
   "cell_type": "markdown",
   "metadata": {},
   "source": [
    "#### 즉시지원 버튼 클릭"
   ]
  },
  {
   "cell_type": "code",
   "execution_count": 110,
   "metadata": {},
   "outputs": [],
   "source": [
    "def clickApplyBtn(applyList, index):\n",
    "    #seemore()\n",
    "    applyList[index].click()\n",
    "    \n",
    "    aleady= aleadyApply() \n",
    "    print(aleady)\n",
    "    if not aleady: # 이미 지원한 공고가 아닐 때만\n",
    "        selectPart()\n",
    "        apply()\n",
    "        clickCancel() #지원완료창 종료"
   ]
  },
  {
   "cell_type": "markdown",
   "metadata": {},
   "source": [
    "#### 이미 지원한 공고\n",
    "없으면 넘어가고. driver는 원래대로\n",
    "- driver.switch_to.frame(driver.findElement(By.id(\"iFrameID\"))); #quick_apply_frame\n",
    "- driver.switch_to_default_content()"
   ]
  },
  {
   "cell_type": "code",
   "execution_count": 120,
   "metadata": {},
   "outputs": [],
   "source": [
    "def aleadyApply():\n",
    "    \"\"\"새 창\n",
    "    \"\"\"\n",
    "    driver.switch_to.frame(driver.find_element_by_id(\"quick_apply_frame\"))\n",
    "    \n",
    "    try:\n",
    "        WebDriverWait(driver, 1).until(\n",
    "            EC.presence_of_element_located((By.XPATH, '//span[@class=\"emph\"]'))\n",
    "        )\n",
    "        print('이미지원한 공고 찾음. 기대값: true')\n",
    "        clickCancel()\n",
    "        driver.switch_to_default_content()\n",
    "        \n",
    "        return True\n",
    "    except Exception as e:\n",
    "        driver.switch_to_default_content() # 원래 iframe로 돌아가기\n",
    "        return False\n",
    "        pass"
   ]
  },
  {
   "cell_type": "markdown",
   "metadata": {},
   "source": [
    "#### 입사지원- 지원부문\n",
    "없으면 넘어가고. driver는 원래대로"
   ]
  },
  {
   "cell_type": "code",
   "execution_count": 112,
   "metadata": {},
   "outputs": [],
   "source": [
    "def selectPart():\n",
    "    \"\"\"창의 일부\n",
    "    \"\"\"\n",
    "    driver.switch_to.frame(driver.find_element_by_id(\"quick_apply_frame\"))\n",
    "    \n",
    "    try:\n",
    "        elements= WebDriverWait(driver, 1).until(\n",
    "            EC.presence_of_element_located((By.XPATH, '//ul[@id=\"optSort\"]/descendant::li'))\n",
    "        )\n",
    "        if 1== len(elements):\n",
    "            elements[0].click() #지원부문 선택지가 1개인 경우도 있다\n",
    "        elements[1].click()\n",
    "        \n",
    "    except Exception as e:\n",
    "        pass\n",
    "    driver.switch_to_default_content() # 원래 iframe로 돌아가기\n",
    "    print('selectPart: 원래frame으로 돌아감')"
   ]
  },
  {
   "cell_type": "markdown",
   "metadata": {},
   "source": [
    "#### 입사지원- 파일추가 등등\n",
    "에러> for로 돌렸더니 apply() 진입도 안 한다.."
   ]
  },
  {
   "cell_type": "code",
   "execution_count": 113,
   "metadata": {},
   "outputs": [],
   "source": [
    "def apply():\n",
    "    print('apply 진입')\n",
    "    driver.switch_to.frame(driver.find_element_by_id(\"quick_apply_frame\"))\n",
    "    print('apply iframe찾음')\n",
    "    try:\n",
    "        #파일 추가\n",
    "        addFile= WebDriverWait(driver, 1).until(\n",
    "            EC.presence_of_element_located((By.XPATH, '//a[@class=\"sri_btn_type3 btn_file\"]'))\n",
    "        )\n",
    "        addFile.click()\n",
    "    except Exception as e1:\n",
    "        print('파일추가없엉')\n",
    "        pass\n",
    "    \n",
    "    try:\n",
    "        #포트폴리오 추가\n",
    "        addPortfolio1= WebDriverWait(driver, 1).until(\n",
    "            EC.presence_of_element_located((By.XPATH, '//input[@id=\"mfile_idx_4314395\"]'))\n",
    "        )\n",
    "        addPortfolio2= WebDriverWait(driver, 1).until(\n",
    "            EC.presence_of_element_located((By.XPATH, '//input[@id=\"mfile_idx_4314365\"]'))\n",
    "        )\n",
    "        addPortfolio1.click()\n",
    "        addPortfolio2.click()\n",
    "    except Exception as e2:\n",
    "        print('퐅폴input없엉')\n",
    "        pass\n",
    "    \n",
    "    try:\n",
    "        #완료\n",
    "        submit= WebDriverWait(driver, 1).until(\n",
    "            EC.presence_of_element_located((By.XPATH, '//button[@class=\"sri_btn_complete _attachment_complete_btn\"]'))\n",
    "        )\n",
    "        submit.click()\n",
    "    except Exception as e3:\n",
    "        print('완료없엉')\n",
    "        pass\n",
    "    \n",
    "    try:\n",
    "        #지원하기 sri_btn_apply\n",
    "        applySubmit= WebDriverWait(driver, 1).until(\n",
    "            EC.presence_of_element_located((By.XPATH, '//button[@class=\"sri_btn_apply\"]'))\n",
    "        )\n",
    "        applySubmit.click()\n",
    "    except Exception as e4:\n",
    "        print('지원하기버튼없엉')\n",
    "        pass\n",
    "    \n",
    "    driver.switch_to_default_content() # 원래 iframe로 돌아가기"
   ]
  },
  {
   "cell_type": "markdown",
   "metadata": {},
   "source": [
    "#### 닫기"
   ]
  },
  {
   "cell_type": "code",
   "execution_count": 114,
   "metadata": {},
   "outputs": [],
   "source": [
    "def clickCancel():\n",
    "    cancel= driver.find_element_by_xpath('//a[@class=\"once_ly_close\"]')\n",
    "    cancel.click()"
   ]
  },
  {
   "cell_type": "markdown",
   "metadata": {},
   "source": [
    "#### test\n",
    "실행후에 어떤 상태인가"
   ]
  },
  {
   "cell_type": "code",
   "execution_count": 93,
   "metadata": {},
   "outputs": [],
   "source": [
    "# applyList[1].click()\n",
    "\n",
    "# clickCancel()\n",
    "\n",
    "# driver.switch_to.frame(driver.find_element_by_id(\"quick_apply_frame\"))\n",
    "\n",
    "# driver.switch_to_default_content()"
   ]
  },
  {
   "cell_type": "markdown",
   "metadata": {},
   "source": [
    "#### 더보기"
   ]
  },
  {
   "cell_type": "code",
   "execution_count": 115,
   "metadata": {},
   "outputs": [],
   "source": [
    "def seemore():\n",
    "    try:\n",
    "        seemore= WebDriverWait(driver, 1).until(\n",
    "            EC.presence_of_element_located((By.XPATH, '//button[@id=\"btn_more_bar\"]'))\n",
    "        )\n",
    "        seemore.click()\n",
    "    except Exception as e3:\n",
    "        pass"
   ]
  },
  {
   "cell_type": "code",
   "execution_count": 121,
   "metadata": {},
   "outputs": [],
   "source": [
    "driver.close()\n",
    "driver.quit()"
   ]
  },
  {
   "cell_type": "markdown",
   "metadata": {},
   "source": [
    "##### test"
   ]
  },
  {
   "cell_type": "code",
   "execution_count": 122,
   "metadata": {},
   "outputs": [],
   "source": [
    "driver= startWeb()\n",
    "login()"
   ]
  },
  {
   "cell_type": "code",
   "execution_count": 123,
   "metadata": {},
   "outputs": [
    {
     "name": "stdout",
     "output_type": "stream",
     "text": [
      "즉시지원 개수:  46\n"
     ]
    }
   ],
   "source": [
    "applyList= getApplyList()"
   ]
  },
  {
   "cell_type": "code",
   "execution_count": 124,
   "metadata": {},
   "outputs": [
    {
     "name": "stdout",
     "output_type": "stream",
     "text": [
      "이미지원한 공고 찾음. 기대값: true\n",
      "False\n",
      "selectPart: 원래frame으로 돌아감\n",
      "apply 진입\n",
      "apply iframe찾음\n",
      "파일추가없엉\n",
      "퐅폴input없엉\n",
      "완료없엉\n",
      "지원하기버튼없엉\n"
     ]
    }
   ],
   "source": [
    "index= 4\n",
    "clickApplyBtn(applyList, index)"
   ]
  },
  {
   "cell_type": "code",
   "execution_count": 107,
   "metadata": {
    "scrolled": true
   },
   "outputs": [
    {
     "name": "stdout",
     "output_type": "stream",
     "text": [
      "이미지원한 공고 찾음\n",
      "selectPart: 원래frame으로 돌아감\n",
      "apply 진입\n",
      "apply iframe찾음\n",
      "파일추가없엉\n",
      "퐅폴input없엉\n",
      "완료없엉\n",
      "지원하기버튼없엉\n"
     ]
    }
   ],
   "source": [
    "index= 3\n",
    "clickApplyBtn(applyList, index)"
   ]
  },
  {
   "cell_type": "markdown",
   "metadata": {},
   "source": [
    "## 실행"
   ]
  },
  {
   "cell_type": "code",
   "execution_count": null,
   "metadata": {},
   "outputs": [],
   "source": [
    "driver= startWeb()\n",
    "login()"
   ]
  },
  {
   "cell_type": "code",
   "execution_count": 80,
   "metadata": {},
   "outputs": [
    {
     "name": "stdout",
     "output_type": "stream",
     "text": [
      "즉시지원 개수:  46\n",
      "0 즉시지원\n",
      "1 즉시지원\n",
      "2 즉시지원\n",
      "3 즉시지원\n",
      "4 즉시지원\n",
      "5 즉시지원\n",
      "6 즉시지원\n",
      "7 즉시지원\n",
      "8 즉시지원\n",
      "9 즉시지원\n",
      "10 즉시지원\n",
      "11 즉시지원\n",
      "12 즉시지원\n",
      "13 즉시지원\n",
      "14 즉시지원\n",
      "15 즉시지원\n",
      "16 즉시지원\n",
      "17 즉시지원\n",
      "18 즉시지원\n",
      "19 즉시지원\n",
      "20 즉시지원\n",
      "21 즉시지원\n",
      "22 즉시지원\n",
      "23 즉시지원\n",
      "24 즉시지원\n",
      "25 즉시지원\n",
      "26 즉시지원\n",
      "27 즉시지원\n",
      "28 즉시지원\n",
      "29 즉시지원\n",
      "30 즉시지원\n",
      "31 즉시지원\n",
      "32 즉시지원\n",
      "33 즉시지원\n",
      "34 즉시지원\n",
      "35 즉시지원\n",
      "36 즉시지원\n",
      "37 즉시지원\n",
      "38 즉시지원\n",
      "39 즉시지원\n",
      "40 즉시지원\n",
      "41 즉시지원\n",
      "42 즉시지원\n",
      "43 즉시지원\n",
      "44 즉시지원\n",
      "45 즉시지원\n"
     ]
    }
   ],
   "source": [
    "applyList= getApplyList()\n",
    "for index,apply in enumerate(applyList):\n",
    "    #print(index, apply.text)\n",
    "    clickApplyBtn(applyList, index)"
   ]
  },
  {
   "cell_type": "code",
   "execution_count": null,
   "metadata": {},
   "outputs": [],
   "source": []
  },
  {
   "cell_type": "code",
   "execution_count": null,
   "metadata": {},
   "outputs": [],
   "source": []
  },
  {
   "cell_type": "code",
   "execution_count": null,
   "metadata": {},
   "outputs": [],
   "source": []
  },
  {
   "cell_type": "code",
   "execution_count": null,
   "metadata": {},
   "outputs": [],
   "source": []
  },
  {
   "cell_type": "code",
   "execution_count": null,
   "metadata": {},
   "outputs": [],
   "source": [
    "#     time.sleep(4)"
   ]
  },
  {
   "cell_type": "code",
   "execution_count": null,
   "metadata": {},
   "outputs": [],
   "source": [
    "# %save dataScraping_airPollution 47-55"
   ]
  }
 ],
 "metadata": {
  "kernelspec": {
   "display_name": "Python 3",
   "language": "python",
   "name": "python3"
  },
  "language_info": {
   "codemirror_mode": {
    "name": "ipython",
    "version": 3
   },
   "file_extension": ".py",
   "mimetype": "text/x-python",
   "name": "python",
   "nbconvert_exporter": "python",
   "pygments_lexer": "ipython3",
   "version": "3.6.4"
  }
 },
 "nbformat": 4,
 "nbformat_minor": 2
}
