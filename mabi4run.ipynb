{
 "cells": [
  {
   "cell_type": "markdown",
   "metadata": {},
   "source": [
    "목적\n",
    "- 4계정 열 때 IE 세션 하나하나 열고, 따로 로그인하기 귀찮아서"
   ]
  },
  {
   "cell_type": "markdown",
   "metadata": {},
   "source": [
    "구상\n",
    "1. IE 웹드라이버 다운로드 (64 bit Windows IE)\n",
    "https://docs.seleniumhq.org/download/\n",
    "\n",
    "2. 4개의 각기 다른 세션으로 오픈 --?\n",
    "    - 구글::ie new session selenium\n",
    "[JAVA](https://sqa.stackexchange.com/questions/17125/how-to-set-selenium-webdriver-using-internet-explorer-browser-to-not-share-sessi?utm_medium=organic&utm_source=google_rich_qa&utm_campaign=google_rich_qa)\n",
    "[셀레늄 깃헙](https://github.com/SeleniumHQ/selenium/wiki/InternetExplorerDriver)\n",
    "\n",
    "3. text파일 8줄에 ID/PW\n",
    "4. py2exe 패키징\n",
    "5. text파일 끌어다 놓으면 실행되도록 --?"
   ]
  },
  {
   "cell_type": "markdown",
   "metadata": {},
   "source": [
    "막혔던것\n",
    "- [driver=](http://selenium-python.readthedocs.io/api.html#module-selenium.webdriver.ie.webdriver)\n",
    "- [SessionNotCreatedException: Message: Unexpected error launching Internet Explorer. Browser zoom level was set to 150%. It should be set to 100%](https://i.stack.imgur.com/boAFF.png)IE창 열고, Zoom_100%로 조정"
   ]
  },
  {
   "cell_type": "code",
   "execution_count": 6,
   "metadata": {},
   "outputs": [],
   "source": [
    "from selenium import webdriver"
   ]
  },
  {
   "cell_type": "code",
   "execution_count": 11,
   "metadata": {},
   "outputs": [],
   "source": [
    "driver= webdriver.Ie('lib/IEDriverServer')"
   ]
  },
  {
   "cell_type": "code",
   "execution_count": null,
   "metadata": {},
   "outputs": [],
   "source": []
  }
 ],
 "metadata": {
  "kernelspec": {
   "display_name": "Python 3",
   "language": "python",
   "name": "python3"
  },
  "language_info": {
   "codemirror_mode": {
    "name": "ipython",
    "version": 3
   },
   "file_extension": ".py",
   "mimetype": "text/x-python",
   "name": "python",
   "nbconvert_exporter": "python",
   "pygments_lexer": "ipython3",
   "version": "3.6.4"
  }
 },
 "nbformat": 4,
 "nbformat_minor": 2
}
