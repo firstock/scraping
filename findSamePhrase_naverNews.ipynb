{
 "cells": [
  {
   "cell_type": "markdown",
   "metadata": {},
   "source": [
    "for fileXPath"
   ]
  },
  {
   "cell_type": "markdown",
   "metadata": {},
   "source": [
    "### ref\n",
    "- [python konlp](http://konlpy-ko.readthedocs.io/ko/v0.4.4/install/)\n",
    "- [jpype install windows>> conda install -c conda-forge jpype1](http://jpype.readthedocs.io/en/latest/install.html) 이걸로도 잘 됨\n",
    "- [jpype1 설치::고급_최근1달](https://wikidocs.net/17212) 파이썬에서 자바클래스를 호출해서 사용 \n",
    "- [jpype1](https://pypi.org/project/JPype1/)\n",
    "\n",
    "> jpype, java jdk 다 되는데 안되면, jupyter notebook을 껐다 켜라"
   ]
  },
  {
   "cell_type": "code",
   "execution_count": 1,
   "metadata": {},
   "outputs": [],
   "source": [
    "import pandas as pd\n",
    "from pandas import DataFrame\n",
    "from sklearn.feature_extraction.text import CountVectorizer # 중간에 nan이 있으면 안 된다"
   ]
  },
  {
   "cell_type": "code",
   "execution_count": 2,
   "metadata": {
    "scrolled": true
   },
   "outputs": [],
   "source": [
    "import konlpy\n",
    "from konlpy.tag import Twitter"
   ]
  },
  {
   "cell_type": "code",
   "execution_count": null,
   "metadata": {},
   "outputs": [],
   "source": [
    "# nltk.download('wordnet')\n",
    "# nltk.download('averaged_perceptron_tagger')"
   ]
  },
  {
   "cell_type": "code",
   "execution_count": 3,
   "metadata": {},
   "outputs": [],
   "source": [
    "df= pd.read_csv('data/naverNewsContent.csv', encoding= 'cp949')"
   ]
  },
  {
   "cell_type": "code",
   "execution_count": 4,
   "metadata": {},
   "outputs": [
    {
     "name": "stdout",
     "output_type": "stream",
     "text": [
      "(1071, 2)\n"
     ]
    },
    {
     "data": {
      "text/html": [
       "<div>\n",
       "<style scoped>\n",
       "    .dataframe tbody tr th:only-of-type {\n",
       "        vertical-align: middle;\n",
       "    }\n",
       "\n",
       "    .dataframe tbody tr th {\n",
       "        vertical-align: top;\n",
       "    }\n",
       "\n",
       "    .dataframe thead th {\n",
       "        text-align: right;\n",
       "    }\n",
       "</style>\n",
       "<table border=\"1\" class=\"dataframe\">\n",
       "  <thead>\n",
       "    <tr style=\"text-align: right;\">\n",
       "      <th></th>\n",
       "      <th>link3pie</th>\n",
       "      <th>zbody</th>\n",
       "    </tr>\n",
       "  </thead>\n",
       "  <tbody>\n",
       "    <tr>\n",
       "      <th>0</th>\n",
       "      <td>www.newsis.com</td>\n",
       "      <td>수원뉴시스김경호 기자 수원시 무인 대여자전거수원뉴시스김경호 기자 경기 수원시가 지난...</td>\n",
       "    </tr>\n",
       "    <tr>\n",
       "      <th>1</th>\n",
       "      <td>www.seoul.co</td>\n",
       "      <td>서울 서초구가 1억 3000만원을 들여 45만 모든 서초구민이 7종의 보험 혜택을 ...</td>\n",
       "    </tr>\n",
       "  </tbody>\n",
       "</table>\n",
       "</div>"
      ],
      "text/plain": [
       "         link3pie                                              zbody\n",
       "0  www.newsis.com  수원뉴시스김경호 기자 수원시 무인 대여자전거수원뉴시스김경호 기자 경기 수원시가 지난...\n",
       "1    www.seoul.co  서울 서초구가 1억 3000만원을 들여 45만 모든 서초구민이 7종의 보험 혜택을 ..."
      ]
     },
     "execution_count": 4,
     "metadata": {},
     "output_type": "execute_result"
    }
   ],
   "source": [
    "print(df.shape)\n",
    "df.head(2)"
   ]
  },
  {
   "cell_type": "code",
   "execution_count": 5,
   "metadata": {},
   "outputs": [],
   "source": [
    "df= df[~df.zbody.isnull()]"
   ]
  },
  {
   "cell_type": "code",
   "execution_count": 6,
   "metadata": {},
   "outputs": [
    {
     "data": {
      "text/plain": [
       "(882, 2)"
      ]
     },
     "execution_count": 6,
     "metadata": {},
     "output_type": "execute_result"
    }
   ],
   "source": [
    "df.shape"
   ]
  },
  {
   "cell_type": "markdown",
   "metadata": {},
   "source": [
    "#### split -> phrase\n",
    "1. line3pie 값 별로 합치기\n",
    "2. 문장별 쪼개기\n",
    "3. link3pie 값 별로 각기 가장 자주 나오는 어구"
   ]
  },
  {
   "cell_type": "code",
   "execution_count": 7,
   "metadata": {},
   "outputs": [
    {
     "data": {
      "text/html": [
       "<div>\n",
       "<style scoped>\n",
       "    .dataframe tbody tr th:only-of-type {\n",
       "        vertical-align: middle;\n",
       "    }\n",
       "\n",
       "    .dataframe tbody tr th {\n",
       "        vertical-align: top;\n",
       "    }\n",
       "\n",
       "    .dataframe thead th {\n",
       "        text-align: right;\n",
       "    }\n",
       "</style>\n",
       "<table border=\"1\" class=\"dataframe\">\n",
       "  <thead>\n",
       "    <tr style=\"text-align: right;\">\n",
       "      <th></th>\n",
       "      <th>zbody</th>\n",
       "    </tr>\n",
       "    <tr>\n",
       "      <th>link3pie</th>\n",
       "      <th></th>\n",
       "    </tr>\n",
       "  </thead>\n",
       "  <tbody>\n",
       "    <tr>\n",
       "      <th>app.yonhapnews.co</th>\n",
       "      <td>종로 자전거도로 개통 첫날광화문동대문 8분 만에 씽씽송고시간 20180408 12:...</td>\n",
       "    </tr>\n",
       "    <tr>\n",
       "      <th>bizn.donga.com</th>\n",
       "      <td>사진서초구서초구는 구민들이 안심하고 자전거를 이용할 수 있도록 예산 1억3000만 ...</td>\n",
       "    </tr>\n",
       "    <tr>\n",
       "      <th>car.chosun.com</th>\n",
       "      <td>르노가 지난 6일 개막한 2018 제네바 모터쇼에서 도시를 위해 설계되고 도시와 통...</td>\n",
       "    </tr>\n",
       "    <tr>\n",
       "      <th>news.chosun.com</th>\n",
       "      <td>서울 따릉이를 비롯해 자전거 탈 때 필수품이지만 너무 커서 갖고 다니기 어렵던 헬멧...</td>\n",
       "    </tr>\n",
       "    <tr>\n",
       "      <th>news.joins.com</th>\n",
       "      <td>하선영의 IT월 후웨이웨이 모바이크 창업자 인터뷰후웨이웨이 모바이크 창업자 겸 회장...</td>\n",
       "    </tr>\n",
       "    <tr>\n",
       "      <th>news.jtbc.co</th>\n",
       "      <td>앵고치기 번거롭고 귀찮아서 또는 어디에 세워뒀는지 잊어버려서 이런 저런 이유들로 서...</td>\n",
       "    </tr>\n",
       "    <tr>\n",
       "      <th>news.khan.co</th>\n",
       "      <td>서울시 공공자전거 따릉이 서울시 제공서울시 공공자전거 따릉이가 서비스 개시 2년 반...</td>\n",
       "    </tr>\n",
       "    <tr>\n",
       "      <th>news.kmib.co</th>\n",
       "      <td>서울시가 국내 최초로 녹색교통진흥지역으로 지정된 한양도성 내부 주요 도로를 46차로...</td>\n",
       "    </tr>\n",
       "    <tr>\n",
       "      <th>news.wowtv.co</th>\n",
       "      <td>차량을 통해 인근 산업단지 차량 10분대로 이동 가능 공공 및 업무기관 다수 밀집단...</td>\n",
       "    </tr>\n",
       "    <tr>\n",
       "      <th>stv.seoul.co</th>\n",
       "      <td>지난 26일 서울시 공공자전거 서울시청 대여소에 세워진 자전거 바구니에 쓰레기가 ...</td>\n",
       "    </tr>\n",
       "    <tr>\n",
       "      <th>travel.donga.com</th>\n",
       "      <td>세종여보 세종시 정말 살기 좋다 우리 여기로 이사 올까지난해 10월 초 세종시 친척...</td>\n",
       "    </tr>\n",
       "    <tr>\n",
       "      <th>www.asiatoday.co</th>\n",
       "      <td>새롭게 배치되는 자전거 뉴라이트 모델제공 수원시경기 수원시가 지난해 전국 최초로 도...</td>\n",
       "    </tr>\n",
       "    <tr>\n",
       "      <th>www.hani.co</th>\n",
       "      <td>스마트락 장치 개발 등 협력키로신한카드 NHN KCP도 참여(왼쪽부터) 신한카드 이...</td>\n",
       "    </tr>\n",
       "    <tr>\n",
       "      <th>www.hankookilbo.com</th>\n",
       "      <td>저급성능과 관리부실로 천덕꾸러기로 전락제 기능 못 하고 잦은 고장으로 대구 전역 방...</td>\n",
       "    </tr>\n",
       "    <tr>\n",
       "      <th>www.khan.co</th>\n",
       "      <td>(5) 자전거 천국 네덜란드 하우턴네덜란드 암스테르담 중앙역 앞 대로를 1월14일 ...</td>\n",
       "    </tr>\n",
       "    <tr>\n",
       "      <th>www.munhwa.com</th>\n",
       "      <td>대전시의 공공자전거 타슈가 도입 11년째를 맞아 고급화된다시는 올해 성능이 대폭 개...</td>\n",
       "    </tr>\n",
       "    <tr>\n",
       "      <th>www.naeil.com</th>\n",
       "      <td>글자크기부천에서 자전거 즐기기건강 싣고 달리는 부천 자전거길 도난 방지용 자전거등록...</td>\n",
       "    </tr>\n",
       "    <tr>\n",
       "      <th>www.newsis.com</th>\n",
       "      <td>수원뉴시스김경호 기자 수원시 무인 대여자전거수원뉴시스김경호 기자 경기 수원시가 지난...</td>\n",
       "    </tr>\n",
       "    <tr>\n",
       "      <th>www.segye.com</th>\n",
       "      <td>사용한 자전거를 아무 곳에나 반납할 수 있는 공유자전거 서비스가 이르면 올해 안에 ...</td>\n",
       "    </tr>\n",
       "    <tr>\n",
       "      <th>www.seoul.co</th>\n",
       "      <td>서울 서초구가 1억 3000만원을 들여 45만 모든 서초구민이 7종의 보험 혜택을 ...</td>\n",
       "    </tr>\n",
       "    <tr>\n",
       "      <th>www.sisain.co</th>\n",
       "      <td>GM의 전통적 라이벌인 포드의 전 CEO 마크 필즈는 2015년 1월 기자간담회에서...</td>\n",
       "    </tr>\n",
       "    <tr>\n",
       "      <th>www.wowtv.co</th>\n",
       "      <td>서울시가 공공자전거를 생활교통수단으로 정착시키기 위해 내년 9월부터 4대문안 여의도...</td>\n",
       "    </tr>\n",
       "  </tbody>\n",
       "</table>\n",
       "</div>"
      ],
      "text/plain": [
       "                                                                 zbody\n",
       "link3pie                                                              \n",
       "app.yonhapnews.co    종로 자전거도로 개통 첫날광화문동대문 8분 만에 씽씽송고시간 20180408 12:...\n",
       "bizn.donga.com       사진서초구서초구는 구민들이 안심하고 자전거를 이용할 수 있도록 예산 1억3000만 ...\n",
       "car.chosun.com       르노가 지난 6일 개막한 2018 제네바 모터쇼에서 도시를 위해 설계되고 도시와 통...\n",
       "news.chosun.com      서울 따릉이를 비롯해 자전거 탈 때 필수품이지만 너무 커서 갖고 다니기 어렵던 헬멧...\n",
       "news.joins.com       하선영의 IT월 후웨이웨이 모바이크 창업자 인터뷰후웨이웨이 모바이크 창업자 겸 회장...\n",
       "news.jtbc.co         앵고치기 번거롭고 귀찮아서 또는 어디에 세워뒀는지 잊어버려서 이런 저런 이유들로 서...\n",
       "news.khan.co         서울시 공공자전거 따릉이 서울시 제공서울시 공공자전거 따릉이가 서비스 개시 2년 반...\n",
       "news.kmib.co         서울시가 국내 최초로 녹색교통진흥지역으로 지정된 한양도성 내부 주요 도로를 46차로...\n",
       "news.wowtv.co        차량을 통해 인근 산업단지 차량 10분대로 이동 가능 공공 및 업무기관 다수 밀집단...\n",
       "stv.seoul.co          지난 26일 서울시 공공자전거 서울시청 대여소에 세워진 자전거 바구니에 쓰레기가 ...\n",
       "travel.donga.com     세종여보 세종시 정말 살기 좋다 우리 여기로 이사 올까지난해 10월 초 세종시 친척...\n",
       "www.asiatoday.co     새롭게 배치되는 자전거 뉴라이트 모델제공 수원시경기 수원시가 지난해 전국 최초로 도...\n",
       "www.hani.co          스마트락 장치 개발 등 협력키로신한카드 NHN KCP도 참여(왼쪽부터) 신한카드 이...\n",
       "www.hankookilbo.com  저급성능과 관리부실로 천덕꾸러기로 전락제 기능 못 하고 잦은 고장으로 대구 전역 방...\n",
       "www.khan.co          (5) 자전거 천국 네덜란드 하우턴네덜란드 암스테르담 중앙역 앞 대로를 1월14일 ...\n",
       "www.munhwa.com       대전시의 공공자전거 타슈가 도입 11년째를 맞아 고급화된다시는 올해 성능이 대폭 개...\n",
       "www.naeil.com        글자크기부천에서 자전거 즐기기건강 싣고 달리는 부천 자전거길 도난 방지용 자전거등록...\n",
       "www.newsis.com       수원뉴시스김경호 기자 수원시 무인 대여자전거수원뉴시스김경호 기자 경기 수원시가 지난...\n",
       "www.segye.com        사용한 자전거를 아무 곳에나 반납할 수 있는 공유자전거 서비스가 이르면 올해 안에 ...\n",
       "www.seoul.co         서울 서초구가 1억 3000만원을 들여 45만 모든 서초구민이 7종의 보험 혜택을 ...\n",
       "www.sisain.co        GM의 전통적 라이벌인 포드의 전 CEO 마크 필즈는 2015년 1월 기자간담회에서...\n",
       "www.wowtv.co         서울시가 공공자전거를 생활교통수단으로 정착시키기 위해 내년 9월부터 4대문안 여의도..."
      ]
     },
     "execution_count": 7,
     "metadata": {},
     "output_type": "execute_result"
    }
   ],
   "source": [
    "dfGroup= df.groupby(['link3pie']).sum()\n",
    "dfGroup"
   ]
  },
  {
   "cell_type": "code",
   "execution_count": null,
   "metadata": {},
   "outputs": [],
   "source": []
  },
  {
   "cell_type": "code",
   "execution_count": 90,
   "metadata": {},
   "outputs": [],
   "source": [
    "# dfGroup.to_csv('data/naverNewsTempClean.csv', encoding='cp949')"
   ]
  },
  {
   "cell_type": "code",
   "execution_count": 8,
   "metadata": {},
   "outputs": [],
   "source": [
    "dfGroup.zbody= dfGroup.zbody.map(str.split, ' ')"
   ]
  },
  {
   "cell_type": "code",
   "execution_count": 9,
   "metadata": {},
   "outputs": [
    {
     "data": {
      "text/html": [
       "<div>\n",
       "<style scoped>\n",
       "    .dataframe tbody tr th:only-of-type {\n",
       "        vertical-align: middle;\n",
       "    }\n",
       "\n",
       "    .dataframe tbody tr th {\n",
       "        vertical-align: top;\n",
       "    }\n",
       "\n",
       "    .dataframe thead th {\n",
       "        text-align: right;\n",
       "    }\n",
       "</style>\n",
       "<table border=\"1\" class=\"dataframe\">\n",
       "  <thead>\n",
       "    <tr style=\"text-align: right;\">\n",
       "      <th></th>\n",
       "      <th>zbody</th>\n",
       "    </tr>\n",
       "    <tr>\n",
       "      <th>link3pie</th>\n",
       "      <th></th>\n",
       "    </tr>\n",
       "  </thead>\n",
       "  <tbody>\n",
       "    <tr>\n",
       "      <th>app.yonhapnews.co</th>\n",
       "      <td>[종로, 자전거도로, 개통, 첫날광화문동대문, 8분, 만에, 씽씽송고시간, 2018...</td>\n",
       "    </tr>\n",
       "    <tr>\n",
       "      <th>bizn.donga.com</th>\n",
       "      <td>[사진서초구서초구는, 구민들이, 안심하고, 자전거를, 이용할, 수, 있도록, 예산,...</td>\n",
       "    </tr>\n",
       "    <tr>\n",
       "      <th>car.chosun.com</th>\n",
       "      <td>[르노가, 지난, 6일, 개막한, 2018, 제네바, 모터쇼에서, 도시를, 위해, ...</td>\n",
       "    </tr>\n",
       "    <tr>\n",
       "      <th>news.chosun.com</th>\n",
       "      <td>[서울, 따릉이를, 비롯해, 자전거, 탈, 때, 필수품이지만, 너무, 커서, 갖고,...</td>\n",
       "    </tr>\n",
       "    <tr>\n",
       "      <th>news.joins.com</th>\n",
       "      <td>[하선영의, IT월, 후웨이웨이, 모바이크, 창업자, 인터뷰후웨이웨이, 모바이크, ...</td>\n",
       "    </tr>\n",
       "    <tr>\n",
       "      <th>news.jtbc.co</th>\n",
       "      <td>[앵고치기, 번거롭고, 귀찮아서, 또는, 어디에, 세워뒀는지, 잊어버려서, 이런, ...</td>\n",
       "    </tr>\n",
       "    <tr>\n",
       "      <th>news.khan.co</th>\n",
       "      <td>[서울시, 공공자전거, 따릉이, 서울시, 제공서울시, 공공자전거, 따릉이가, 서비스...</td>\n",
       "    </tr>\n",
       "    <tr>\n",
       "      <th>news.kmib.co</th>\n",
       "      <td>[서울시가, 국내, 최초로, 녹색교통진흥지역으로, 지정된, 한양도성, 내부, 주요,...</td>\n",
       "    </tr>\n",
       "    <tr>\n",
       "      <th>news.wowtv.co</th>\n",
       "      <td>[차량을, 통해, 인근, 산업단지, 차량, 10분대로, 이동, 가능, 공공, 및, ...</td>\n",
       "    </tr>\n",
       "    <tr>\n",
       "      <th>stv.seoul.co</th>\n",
       "      <td>[지난, 26일, 서울시, 공공자전거, 서울시청, 대여소에, 세워진, 자전거, 바구...</td>\n",
       "    </tr>\n",
       "  </tbody>\n",
       "</table>\n",
       "</div>"
      ],
      "text/plain": [
       "                                                               zbody\n",
       "link3pie                                                            \n",
       "app.yonhapnews.co  [종로, 자전거도로, 개통, 첫날광화문동대문, 8분, 만에, 씽씽송고시간, 2018...\n",
       "bizn.donga.com     [사진서초구서초구는, 구민들이, 안심하고, 자전거를, 이용할, 수, 있도록, 예산,...\n",
       "car.chosun.com     [르노가, 지난, 6일, 개막한, 2018, 제네바, 모터쇼에서, 도시를, 위해, ...\n",
       "news.chosun.com    [서울, 따릉이를, 비롯해, 자전거, 탈, 때, 필수품이지만, 너무, 커서, 갖고,...\n",
       "news.joins.com     [하선영의, IT월, 후웨이웨이, 모바이크, 창업자, 인터뷰후웨이웨이, 모바이크, ...\n",
       "news.jtbc.co       [앵고치기, 번거롭고, 귀찮아서, 또는, 어디에, 세워뒀는지, 잊어버려서, 이런, ...\n",
       "news.khan.co       [서울시, 공공자전거, 따릉이, 서울시, 제공서울시, 공공자전거, 따릉이가, 서비스...\n",
       "news.kmib.co       [서울시가, 국내, 최초로, 녹색교통진흥지역으로, 지정된, 한양도성, 내부, 주요,...\n",
       "news.wowtv.co      [차량을, 통해, 인근, 산업단지, 차량, 10분대로, 이동, 가능, 공공, 및, ...\n",
       "stv.seoul.co       [지난, 26일, 서울시, 공공자전거, 서울시청, 대여소에, 세워진, 자전거, 바구..."
      ]
     },
     "execution_count": 9,
     "metadata": {},
     "output_type": "execute_result"
    }
   ],
   "source": [
    "dfGroup.head(10)"
   ]
  },
  {
   "cell_type": "code",
   "execution_count": 10,
   "metadata": {
    "scrolled": true
   },
   "outputs": [
    {
     "data": {
      "text/plain": [
       "Index(['app.yonhapnews.co', 'bizn.donga.com', 'car.chosun.com',\n",
       "       'news.chosun.com', 'news.joins.com', 'news.jtbc.co', 'news.khan.co',\n",
       "       'news.kmib.co', 'news.wowtv.co', 'stv.seoul.co', 'travel.donga.com',\n",
       "       'www.asiatoday.co', 'www.hani.co', 'www.hankookilbo.com', 'www.khan.co',\n",
       "       'www.munhwa.com', 'www.naeil.com', 'www.newsis.com', 'www.segye.com',\n",
       "       'www.seoul.co', 'www.sisain.co', 'www.wowtv.co'],\n",
       "      dtype='object', name='link3pie')"
      ]
     },
     "execution_count": 10,
     "metadata": {},
     "output_type": "execute_result"
    }
   ],
   "source": [
    "dfGroup.index"
   ]
  },
  {
   "cell_type": "markdown",
   "metadata": {},
   "source": [
    "#### Tokenize"
   ]
  },
  {
   "cell_type": "code",
   "execution_count": 11,
   "metadata": {
    "scrolled": true
   },
   "outputs": [
    {
     "name": "stdout",
     "output_type": "stream",
     "text": [
      "Object `morphs` not found.\n"
     ]
    }
   ],
   "source": [
    "Twitter().morphs?\n",
    "# tw.morphs(phrase='강낭콩ㅇㅇ', self='ㅇㅇ')"
   ]
  },
  {
   "cell_type": "code",
   "execution_count": 12,
   "metadata": {},
   "outputs": [
    {
     "data": {
      "text/plain": [
       "<bound method Twitter.morphs of <konlpy.tag._twitter.Twitter object at 0x00000128DDDEC860>>"
      ]
     },
     "execution_count": 12,
     "metadata": {},
     "output_type": "execute_result"
    }
   ],
   "source": [
    "Twitter().morphs"
   ]
  },
  {
   "cell_type": "code",
   "execution_count": 13,
   "metadata": {},
   "outputs": [
    {
     "data": {
      "text/plain": [
       "<bound method Twitter.morphs of <konlpy.tag._twitter.Twitter object at 0x00000128DDE4BA90>>"
      ]
     },
     "execution_count": 13,
     "metadata": {},
     "output_type": "execute_result"
    }
   ],
   "source": [
    "tw= Twitter()\n",
    "tw.morphs"
   ]
  },
  {
   "cell_type": "markdown",
   "metadata": {},
   "source": [
    "일단여기까진 됨"
   ]
  },
  {
   "cell_type": "code",
   "execution_count": 123,
   "metadata": {},
   "outputs": [
    {
     "ename": "TypeError",
     "evalue": "morphs() missing 1 required positional argument: 'phrase'",
     "output_type": "error",
     "traceback": [
      "\u001b[1;31m---------------------------------------------------------------------------\u001b[0m",
      "\u001b[1;31mTypeError\u001b[0m                                 Traceback (most recent call last)",
      "\u001b[1;32m<ipython-input-123-68a5077d856a>\u001b[0m in \u001b[0;36m<module>\u001b[1;34m()\u001b[0m\n\u001b[0;32m      1\u001b[0m \u001b[1;31m# tw.morphs?\u001b[0m\u001b[1;33m\u001b[0m\u001b[1;33m\u001b[0m\u001b[0m\n\u001b[1;32m----> 2\u001b[1;33m \u001b[0mdfGroup\u001b[0m\u001b[1;33m.\u001b[0m\u001b[0mzbody\u001b[0m\u001b[1;33m.\u001b[0m\u001b[0mmap\u001b[0m\u001b[1;33m(\u001b[0m\u001b[0mtw\u001b[0m\u001b[1;33m.\u001b[0m\u001b[0mmorphs\u001b[0m\u001b[1;33m)\u001b[0m\u001b[1;33m\u001b[0m\u001b[0m\n\u001b[0m",
      "\u001b[1;32m~\\Anaconda3\\lib\\site-packages\\pandas\\core\\series.py\u001b[0m in \u001b[0;36mmap\u001b[1;34m(self, arg, na_action)\u001b[0m\n\u001b[0;32m   2352\u001b[0m         \u001b[1;32melse\u001b[0m\u001b[1;33m:\u001b[0m\u001b[1;33m\u001b[0m\u001b[0m\n\u001b[0;32m   2353\u001b[0m             \u001b[1;31m# arg is a function\u001b[0m\u001b[1;33m\u001b[0m\u001b[1;33m\u001b[0m\u001b[0m\n\u001b[1;32m-> 2354\u001b[1;33m             \u001b[0mnew_values\u001b[0m \u001b[1;33m=\u001b[0m \u001b[0mmap_f\u001b[0m\u001b[1;33m(\u001b[0m\u001b[0mvalues\u001b[0m\u001b[1;33m,\u001b[0m \u001b[0marg\u001b[0m\u001b[1;33m)\u001b[0m\u001b[1;33m\u001b[0m\u001b[0m\n\u001b[0m\u001b[0;32m   2355\u001b[0m \u001b[1;33m\u001b[0m\u001b[0m\n\u001b[0;32m   2356\u001b[0m         return self._constructor(new_values,\n",
      "\u001b[1;32mpandas/_libs/src/inference.pyx\u001b[0m in \u001b[0;36mpandas._libs.lib.map_infer\u001b[1;34m()\u001b[0m\n",
      "\u001b[1;31mTypeError\u001b[0m: morphs() missing 1 required positional argument: 'phrase'"
     ]
    }
   ],
   "source": [
    "dfGroup.zbody.map"
   ]
  },
  {
   "cell_type": "code",
   "execution_count": null,
   "metadata": {},
   "outputs": [],
   "source": []
  },
  {
   "cell_type": "code",
   "execution_count": 25,
   "metadata": {},
   "outputs": [
    {
     "data": {
      "text/plain": [
       "CountVectorizer(analyzer='word', binary=False, decode_error='strict',\n",
       "        dtype=<class 'numpy.int64'>, encoding='utf-8', input='content',\n",
       "        lowercase=True, max_df=1.0, max_features=20, min_df=1,\n",
       "        ngram_range=(1, 1), preprocessor=None, stop_words=None,\n",
       "        strip_accents=None, token_pattern='(?u)\\\\b\\\\w\\\\w+\\\\b',\n",
       "        tokenizer=None, vocabulary=None)"
      ]
     },
     "execution_count": 25,
     "metadata": {},
     "output_type": "execute_result"
    }
   ],
   "source": [
    "vectorizer= CountVectorizer(max_features= 20)\n",
    "vectorizer"
   ]
  },
  {
   "cell_type": "markdown",
   "metadata": {},
   "source": [
    "caution: nan에는 적용 X"
   ]
  },
  {
   "cell_type": "code",
   "execution_count": 26,
   "metadata": {},
   "outputs": [
    {
     "data": {
      "text/plain": [
       "CountVectorizer(analyzer='word', binary=False, decode_error='strict',\n",
       "        dtype=<class 'numpy.int64'>, encoding='utf-8', input='content',\n",
       "        lowercase=True, max_df=1.0, max_features=20, min_df=1,\n",
       "        ngram_range=(1, 1), preprocessor=None, stop_words=None,\n",
       "        strip_accents=None, token_pattern='(?u)\\\\b\\\\w\\\\w+\\\\b',\n",
       "        tokenizer=None, vocabulary=None)"
      ]
     },
     "execution_count": 26,
     "metadata": {},
     "output_type": "execute_result"
    }
   ],
   "source": [
    "vectorizer.fit(df['zbody'])"
   ]
  },
  {
   "cell_type": "code",
   "execution_count": null,
   "metadata": {},
   "outputs": [],
   "source": []
  }
 ],
 "metadata": {
  "kernelspec": {
   "display_name": "Python 3",
   "language": "python",
   "name": "python3"
  },
  "language_info": {
   "codemirror_mode": {
    "name": "ipython",
    "version": 3
   },
   "file_extension": ".py",
   "mimetype": "text/x-python",
   "name": "python",
   "nbconvert_exporter": "python",
   "pygments_lexer": "ipython3",
   "version": "3.6.4"
  }
 },
 "nbformat": 4,
 "nbformat_minor": 2
}
