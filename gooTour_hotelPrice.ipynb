{
 "cells": [
  {
   "cell_type": "markdown",
   "metadata": {},
   "source": [
    "#### use: selenium\n",
    "타깃: http://cleanair.seoul.go.kr/air_pollution.htm?method=period"
   ]
  },
  {
   "cell_type": "markdown",
   "metadata": {},
   "source": [
    "# 실행코드만"
   ]
  },
  {
   "cell_type": "code",
   "execution_count": 5,
   "metadata": {
    "collapsed": true
   },
   "outputs": [],
   "source": [
    "from selenium import webdriver\n",
    "from selenium.webdriver.common.by import By\n",
    "from selenium.webdriver.common.keys import Keys\n",
    "\n",
    "from selenium.webdriver.support.ui import WebDriverWait\n",
    "from selenium.webdriver.support import expected_conditions as EC\n",
    "\n",
    "import os.path\n",
    "from os import rename\n",
    "from os import listdir\n",
    "\n",
    "import time"
   ]
  },
  {
   "cell_type": "markdown",
   "metadata": {},
   "source": [
    "##### 브라우저 시작"
   ]
  },
  {
   "cell_type": "code",
   "execution_count": 116,
   "metadata": {
    "collapsed": true
   },
   "outputs": [],
   "source": [
    "def startWeb():\n",
    "    \"\"\"\n",
    "    @return driver\n",
    "    \"\"\"\n",
    "    driver= webdriver.Chrome('lib/chromedriver.exe')\n",
    "    url= \"https://www.google.co.kr/destination\"\n",
    "    driver.get(url)\n",
    "    \n",
    "    return driver"
   ]
  },
  {
   "cell_type": "markdown",
   "metadata": {},
   "source": [
    "##### 연도, 월, 일 선택\n",
    "'' 사이에 값은 꼭 \"\"로 넣어줘야"
   ]
  },
  {
   "cell_type": "code",
   "execution_count": 109,
   "metadata": {
    "collapsed": true
   },
   "outputs": [],
   "source": [
    "def set_input(sendKeys):\n",
    "    element_clr= driver.find_element_by_xpath('//button[@class=\"gb_jf\"]')\n",
    "    element_clr.click()\n",
    "    \n",
    "    myXpath= '//div[@class=\"gb_nf\"]/input[@class=\"gb_6e\"]'\n",
    "    element= driver.find_element_by_xpath(myXpath)\n",
    "    element.send_keys(sendKeys)\n",
    "    driver.implicitly_wait(3)\n",
    "    element.send_keys(Keys.ENTER)    "
   ]
  },
  {
   "cell_type": "markdown",
   "metadata": {},
   "source": [
    "##### ㄴㄴ검색 버튼 클릭\n",
    "엔터를 눌러야 원하는 결과"
   ]
  },
  {
   "cell_type": "code",
   "execution_count": 110,
   "metadata": {
    "collapsed": true
   },
   "outputs": [],
   "source": [
    "# def clickSearchBtn(driver):\n",
    "#     element= driver.find_element_by_xpath('//button[@class=\"gb_8e\"]')\n",
    "#     element.click()"
   ]
  },
  {
   "cell_type": "markdown",
   "metadata": {},
   "source": [
    "### 가격"
   ]
  },
  {
   "cell_type": "code",
   "execution_count": 111,
   "metadata": {
    "collapsed": true
   },
   "outputs": [],
   "source": [
    "def getText():\n",
    "    element= driver.find_elements_by_xpath('//span[@class=\"YUAg0b\"]')\n",
    "    text= element[1].text.split(' ')[-1]\n",
    "    driver.implicitly_wait(3)\n",
    "    return text"
   ]
  },
  {
   "cell_type": "code",
   "execution_count": 112,
   "metadata": {
    "collapsed": true
   },
   "outputs": [],
   "source": [
    "def getText2():\n",
    "    element= driver.find_element_by_xpath('//div[@class=\"mK1pad\"]/div[@class=\"wfUbnc\"]')\n",
    "    text= element.text\n",
    "    driver.implicitly_wait(3)\n",
    "    return text"
   ]
  },
  {
   "cell_type": "code",
   "execution_count": 113,
   "metadata": {
    "collapsed": true
   },
   "outputs": [],
   "source": [
    "# st11= \"3성급 호텔, 평균가 ₩168,891\""
   ]
  },
  {
   "cell_type": "code",
   "execution_count": 114,
   "metadata": {
    "collapsed": true
   },
   "outputs": [],
   "source": [
    "# st11.split(' ')[-1]"
   ]
  },
  {
   "cell_type": "markdown",
   "metadata": {},
   "source": [
    "## 실행"
   ]
  },
  {
   "cell_type": "code",
   "execution_count": 117,
   "metadata": {
    "collapsed": true
   },
   "outputs": [],
   "source": [
    "#citys= [\"리마\", \"쿠스코\", \"아레키파\", \"아야쿠초\", \"산티아고\", \"발디비아\", \"아이센\", \"코이아이케\", \"항가로아\", \"카스트로\", \"보고타\", \"메데인\", \"바랑키야\", \"카르타헤나\", \"칼리\", \"부카라망가\", \"산타마르타\", \"비야비센시오\", \"파스토\", \"퉁하\", \"아르메니아\", \"산안드레스\", \"쿠마나\", \"마라카이\", \"라과이라\", \"코로\", \"조지타운\", \"라파스\", \"수크레\", \"산타크루스\", \"파라마리보\", \"카토\", \"과야킬\", \"쿠엥카\", \"암바토\", \"침보라소 주\", \"푸에르토아요라\", \"몬테비데오\", \"라스피에드라스\", \"이순시온\", \"아레과\", \"San Bernardino\", \"베이루트\", \"비블로스\", \"티레\", \"바알베크\", \"시돈\", \"트리폴리\", \"자흘레\", \"마라케시\", \"페스\", \"카사블랑카\", \"탕헤르\", \"라바트\", \"에사우이라\", \"우아르자자트\", \"메크네스\", \"아이트벤하도우\", \"셰프샤우엔\", \"마나마\", \"무하라크\", \"리파\", \"시프\", \"애들리야\", \"메카\", \"메디나\", \"제다\", \"리야드\", \"담맘\", \"타이프\", \"코바르\", \"아브하\", \"타부크\", \"두바이\", \"아부다비\", \"샤르자\", \"팜주메이라\", \"알아인\", \"푸자이라토후국\", \"야스\", \"알제\", \"오랑\", \"콩스탕틴\", \"틀렘센\", \"안나바\", \"베자이아\", \"팀가드\", \"제밀라\", \"지젤\", \"모스타가넴\", \"무스카트\", \"살랄라\", \"니즈와\", \"와히바\", \"하사브\", \"무트라\", \"수르\", \"바흐라\", \"나칼\", \"페트라\", \"암만\", \"아카바\", \"와디럼\", \"제라시\", \"앨카즈네\", \"카라크\", \"아질룬\", \"테헤란\", \"이스파한\", \"시라즈\", \"야즈드\", \"카샨\", \"마슈하드\", \"케슘\", \"카즈빈\", \"예루살렘\", \"텔아비브\", \"에일라트\", \"나사렛\", \"하이파\", \"티베리아스\", \"아코\", \"시저이아\", \"카이로\", \"룩소르\", \"기자\", \"알렉산드리아\", \"아스완\", \"후르가다\", \"샤름엘셰이크\", \"다합\", \"도하\", \"알와크라\", \"알코르\", \"쿠웨이트\", \"살미야\", \"수스\", \"튀니스\", \"제르바\", \"함마메트\", \"시디부사이드\", \"카이르완\", \"모나스티르\", \"엘젬\", \"토죄르\", \"마트마타\", \"두즈\", \"비제르테\", \"이스탄불\", \"안탈리아\", \"이즈미르\", \"쿠샤다스\", \"괴레메\", \"보드룸\", \"앙카라\", \"페티예\", \"마르마리스\", \"알라니아\", \"코니아\", \"욀뤼데니즈\", \"아크라\", \"케이프코스트\", \"리브르빌\", \"스바코프문트\", \"빈트후크\", \"세스리엠\", \"월브스베이\", \"라고스\", \"이케자\", \"아부자\", \"케이프타운\", \"더반\", \"요하네스버그\", \"스텔렌보스\", \"프란쉬후크\", \"허머너스\", \"나이스나\", \"니아메\", \"아가데즈\", \"마세루\", \"키갈리\", \"기세니\", \"루헹게리\", \"키부예\", \"안타나나리보\", \"생트마리\", \"디에고수아레스\", \"마하장가\", \"노지베\", \"이파티\", \"릴롱웨\", \"블랜타이어\", \"좀바\", \"플릭엥플랭크\", \"그란데바이예\", \"페레이베레\", \"벨마르\", \"그헝베\", \"포트루이스\", \"블루베이\", \"마헤보그\", \"누악쇼트\", \"마푸토\", \"빌란쿨로\", \"토포\", \"코토누\", \"가보로네\", \"카사네\", \"마운\", \"와가두구\", \"방포라\", \"상투메\", \"포르투알레그레\", \"다카르\", \"살리포르투달\", \"라디그\", \"보발롱\", \"마에\", \"프레슬린\", \"카르툼\", \"에즐위니\", \"음바바네\", \"로밤바\", \"루안다\", \"아디스아바바\", \"랄리벨라\", \"캄팔라\", \"엔테베\", \"리빙스턴\", \"루사카\", \"빅토리아폴스\", \"하라레\", \"불라와요\", \"황게\", \"산타마리아\", \"민델루\", \"프라이아\", \"살\", \"나이로비\", \"몸바사\", \"와타무\", \"아비장\", \"잔지바르시\", \"눙귀\", \"잠비아니\", \"세렝게티\", \"모시\", \"로메\"]"
   ]
  },
  {
   "cell_type": "code",
   "execution_count": 119,
   "metadata": {
    "collapsed": true
   },
   "outputs": [],
   "source": [
    "driver= startWeb()\n",
    "text= []\n",
    "\n",
    "\n",
    "citys= [\"리마\",\"쿠스코\"]\n",
    "for city in citys:\n",
    "    set_input(city)\n",
    "    #clickSearchBtn(driver)\n",
    "    #text= getText()\n",
    "    text= getText2()\n",
    "    print(city,'\\t',text)"
   ]
  },
  {
   "cell_type": "code",
   "execution_count": null,
   "metadata": {
    "collapsed": true
   },
   "outputs": [],
   "source": []
  },
  {
   "cell_type": "code",
   "execution_count": null,
   "metadata": {
    "collapsed": true
   },
   "outputs": [],
   "source": []
  },
  {
   "cell_type": "code",
   "execution_count": null,
   "metadata": {
    "collapsed": true
   },
   "outputs": [],
   "source": []
  },
  {
   "cell_type": "code",
   "execution_count": 171,
   "metadata": {
    "collapsed": true
   },
   "outputs": [],
   "source": [
    "def startWeb():\n",
    "    \"\"\"\n",
    "    @return driver\n",
    "    \"\"\"\n",
    "    driver= webdriver.Chrome('lib/chromedriver.exe')\n",
    "    url= \"https://www.google.co.kr/destination\"\n",
    "    driver.get(url)\n",
    "    \n",
    "    return driver"
   ]
  },
  {
   "cell_type": "code",
   "execution_count": null,
   "metadata": {
    "collapsed": true
   },
   "outputs": [],
   "source": [
    "driver.close()"
   ]
  },
  {
   "cell_type": "code",
   "execution_count": null,
   "metadata": {
    "collapsed": true
   },
   "outputs": [],
   "source": [
    "driver= startWeb()"
   ]
  },
  {
   "cell_type": "code",
   "execution_count": 11,
   "metadata": {
    "collapsed": true
   },
   "outputs": [],
   "source": [
    "myXpath= '//div[@class=\"gb_nf\"]/input[@class=\"gb_6e\"]'\n",
    "element= driver.find_element_by_xpath(myXpath)\n",
    "element.clear()"
   ]
  },
  {
   "cell_type": "code",
   "execution_count": 12,
   "metadata": {
    "collapsed": true
   },
   "outputs": [],
   "source": [
    "sendKeys= \"몸바사\"\n",
    "element.send_keys(sendKeys)"
   ]
  },
  {
   "cell_type": "code",
   "execution_count": 13,
   "metadata": {
    "collapsed": true
   },
   "outputs": [],
   "source": [
    "driver.implicitly_wait(3)\n",
    "element.send_keys(Keys.ENTER)  "
   ]
  },
  {
   "cell_type": "code",
   "execution_count": 15,
   "metadata": {
    "scrolled": true
   },
   "outputs": [
    {
     "name": "stdout",
     "output_type": "stream",
     "text": [
      "몸바사 \t 5성급 ₩182,968\n"
     ]
    }
   ],
   "source": [
    "element= driver.find_element_by_xpath(\"//*[contains(text(), '평균가')]\")\n",
    "text= element.text.split(' ')\n",
    "# element= driver.find_elements_by_xpath('//span[@class=\"YUAg0b\"]')\n",
    "# text= element[1].text.split(' ')[-1]\n",
    "driver.implicitly_wait(3)\n",
    "print(sendKeys,'\\t',text[0], text[-1])"
   ]
  },
  {
   "cell_type": "code",
   "execution_count": null,
   "metadata": {
    "collapsed": true
   },
   "outputs": [],
   "source": []
  },
  {
   "cell_type": "code",
   "execution_count": null,
   "metadata": {
    "collapsed": true
   },
   "outputs": [],
   "source": []
  },
  {
   "cell_type": "code",
   "execution_count": null,
   "metadata": {
    "collapsed": true
   },
   "outputs": [],
   "source": []
  },
  {
   "cell_type": "code",
   "execution_count": null,
   "metadata": {
    "collapsed": true
   },
   "outputs": [],
   "source": []
  },
  {
   "cell_type": "code",
   "execution_count": 112,
   "metadata": {
    "collapsed": true
   },
   "outputs": [],
   "source": [
    "from selenium import webdriver\n",
    "from selenium.webdriver.common.by import By\n",
    "from selenium.webdriver.common.keys import Keys\n",
    "\n",
    "from selenium.webdriver.support.ui import WebDriverWait\n",
    "from selenium.webdriver.support import expected_conditions as EC\n",
    "\n",
    "import os.path\n",
    "from os import rename\n",
    "from os import listdir\n",
    "\n",
    "import time"
   ]
  },
  {
   "cell_type": "code",
   "execution_count": 135,
   "metadata": {
    "collapsed": true
   },
   "outputs": [],
   "source": [
    "def startWeb():\n",
    "    \"\"\"\n",
    "    @return driver\n",
    "    \"\"\"\n",
    "    driver= webdriver.Chrome('lib/chromedriver.exe')\n",
    "    url= \"https://www.google.co.kr/destination\"\n",
    "    driver.get(url)\n",
    "    return driver"
   ]
  },
  {
   "cell_type": "code",
   "execution_count": 170,
   "metadata": {
    "collapsed": true
   },
   "outputs": [],
   "source": [
    "def searchPlace(sendKey):\n",
    "    myXpath= '//div[@class=\"gb_nf\"]/input[@class=\"gb_6e\"]'\n",
    "    element= driver.find_element_by_xpath(myXpath)\n",
    "    time.sleep(1)\n",
    "    element.clear()\n",
    "    #sendKeys= \"몸바사\"\n",
    "    element.send_keys(sendKey)\n",
    "    time.sleep(2)\n",
    "    element.send_keys(Keys.ENTER)\n",
    "    try:\n",
    "        #element= driver.find_element_by_xpath(\"//*[contains(text(), '\\\\')]\")\n",
    "        element= driver.find_element_by_xpath(\"//*[contains(text(), '평균가')]\")\n",
    "        text= element.text.split(' ')[-1]\n",
    "        time.sleep(1)\n",
    "        print(sendKey,'\\t',text)\n",
    "    except Exception as ex:\n",
    "        print(ex)\n",
    "        #driver.close()\n",
    "        pass"
   ]
  },
  {
   "cell_type": "markdown",
   "metadata": {},
   "source": [
    "리마\t5성급\t₩151,449\n",
    "쿠스코\t5성급\t₩334,930\n",
    "아레키파\t5성급\t₩82,368\n",
    "아야쿠초\t5성급\t₩82,368\n",
    "산티아고\t5성급\t₩159,948\n",
    "코이아이케\t3성급\t₩140,545\n",
    "항가로아\t5성급\t₩607,592\n",
    "카스트로\t5성급\t₩134,782\n",
    "보고타\t5성급\t₩111,779\n",
    "메데인\t5성급\t₩110,007\n",
    "바랑키야\t5성급\t₩65,081\n",
    "카르타헤나\t5성급\t₩277,808\n",
    "칼리\t3성급\t₩91,377\n",
    "산타마르타\t5성급\t₩187,297\n",
    "비야비센시오\t3성급\t₩45,115\n",
    "파스토\t3성급\t₩67,681\n",
    "산안드레스\t3성급\t₩121,908\n",
    "쿠마나\t3성급\t₩63,515\n",
    "마라카이\t3성급\t₩40,831\n",
    "라과이라\t5성급\t₩74,559\n",
    "코로\t5성급\t₩601,757\n",
    "조지타운\t5성급\t₩113,208\n",
    "라파스\t5성급\t₩128,206\n",
    "수크레\t5성급\t₩102,150\n",
    "산타크루스\t5성급\t₩161,746\n",
    "파라마리보\t3성급\t₩93,646\n",
    "카토\t5성급\t₩154,323\n",
    "과야킬\t5성급\t₩114,939\n",
    "쿠엥카\t5성급\t₩88,481\n",
    "침보라소\t3성급\t₩112,738\n",
    "푸에르토아요라\t5성급\t₩460,421\n",
    "몬테비데오\t5성급\t₩120,679\n",
    "라스피에드라스\t3성급\t₩55,732\n",
    "아레과\t5성급\t₩132,528\n",
    "베이루트\t5성급\t₩128,319\n",
    "비블로스\t5성급\t₩186,405\n",
    "바알베크\t5성급\t₩144,985\n",
    "트리폴리\t5성급\t₩360,998\n",
    "자흘레\t5성급\t₩128,783\n",
    "마라케시\t5성급\t₩214,686\n",
    "페스\t5성급\t₩143,466\n",
    "카사블랑카\t5성급\t₩188,929\n",
    "탕헤르\t5성급\t₩124,254\n",
    "라바트\t5성급\t₩153,657\n",
    "에사우이라\t5성급\t₩109,695\n",
    "우아르자자트\t5성급\t₩216,174\n",
    "메크네스\t5성급\t₩94,137\n",
    "셰프샤우엔\t3성급\t₩58,306\n",
    "마나마\t5성급\t₩153,386\n",
    "무하라크\t5성급\t₩140,864\n",
    "리파\t5성급\t₩138,832\n",
    "시프\t3성급\t₩80,557\n",
    "애들리야\t5성급\t₩177,460\n",
    "메카\t5성급\t₩126,359\n",
    "메디나\t5성급\t₩116,275\n",
    "리야드\t5성급\t₩173,940\n",
    "담맘\t5성급\t₩155,598\n",
    "타이프\t5성급\t₩184,361\n",
    "코바르\t5성급\t₩178,565\n",
    "아브하\t5성급\t₩186,409\n",
    "타부크\t3성급\t₩124,676\n",
    "두바이\t5성급\t₩182,304\n",
    "아부다비\t5성급\t₩108,802\n",
    "샤르자\t5성급\t₩116,692\n",
    "알아인\t5성급\t₩80,168\n",
    "야스\t5성급\t₩114,356\n",
    "오랑\t3성급\t₩102,139\n",
    "콩스탕틴\t5성급\t₩184,605\n",
    "틀렘센\t5성급\t₩149,463\n",
    "안나바\t3성급\t₩71,292\n",
    "베자이아\t3성급\t₩95,690\n",
    "제밀라\t3성급\t₩81,086\n",
    "지젤\t3성급\t₩95,690\n",
    "모스타가넴\t5성급\t₩179,147\n",
    "무스카트\t5성급\t₩175,507\n",
    "살랄라\t5성급\t₩248,676\n",
    "니즈와\t5성급\t₩340,453\n",
    "하사브\t5성급\t₩220,619\n",
    "무트라\t5성급\t₩150,808\n",
    "바흐라\t5성급\t₩340,447\n",
    "암만\t5성급\t₩157,987\n",
    "아카바\t5성급\t₩344,809\n",
    "제라시\t3성급\t₩68,091\n",
    "카라크\t5성급\t₩949,236\n",
    "아질룬\t3성급\t₩87,597\n",
    "테헤란\t5성급\t₩166,078\n",
    "이스파한\t3성급\t₩95,173\n",
    "마슈하드\t5성급\t₩122,969\n",
    "예루살렘\t5성급\t₩514,112\n",
    "텔아비브\t5성급\t₩360,342\n",
    "에일라트\t5성급\t₩867,072\n",
    "하이파\t5성급\t₩383,233\n",
    "카이로\t5성급\t₩152,687\n",
    "룩소르\t5성급\t₩54,252\n",
    "기자\t5성급\t₩136,558\n",
    "알렉산드리아\t5성급\t₩183,496\n",
    "아스완\t5성급\t₩68,016\n",
    "후르가다\t5성급\t₩91,812\n",
    "샤름엘셰이크\t5성급\t₩75,189\n",
    "다합\t3성급\t₩31,388\n",
    "도하\t5성급\t₩136,365\n",
    "알와크라\t5성급\t₩75,564\n",
    "알코르\t3성급\t₩76,399\n",
    "살미야\t5성급\t₩306,376\n",
    "수스\t5성급\t₩129,932\n",
    "튀니스\t5성급\t₩130,240\n",
    "제르바\t5성급\t₩122,737\n",
    "함마메트\t5성급\t₩114,571\n",
    "시디부사이드\t5성급\t₩324,790\n",
    "카이르완\t5성급\t₩114,485\n",
    "모나스티르\t5성급\t₩95,011\n",
    "엘젬\t5성급\t₩150,635\n",
    "토죄르\t5성급\t₩107,628\n",
    "두즈\t3성급\t₩136,026\n",
    "비제르테\t5성급\t₩166,707\n",
    "이스탄불\t5성급\t₩97,953\n",
    "안탈리아\t5성급\t₩92,600\n",
    "이즈미르\t5성급\t₩90,531\n",
    "쿠샤다스\t5성급\t₩76,431\n",
    "괴레메\t3성급\t₩47,742\n",
    "보드룸\t5성급\t₩80,515\n",
    "앙카라\t5성급\t₩107,094\n",
    "페티예\t5성급\t₩112,074\n",
    "마르마리스\t5성급\t₩83,257\n",
    "알라니아\t5성급\t₩61,320\n",
    "코니아\t5성급\t₩45,583\n",
    "욀뤼데니즈\t5성급\t₩111,338\n",
    "아크라\t5성급\t₩345,012\n",
    "리브르빌\t3성급\t₩612,586\n",
    "스바코프문트\t3성급\t₩120,136\n",
    "빈트후크\t5성급\t₩183,951\n",
    "라고스\t5성급\t₩284,054\n",
    "이케자\t3성급\t₩64,222\n",
    "아부자\t5성급\t₩146,169\n",
    "케이프타운\t5성급\t₩192,120\n",
    "더반\t5성급\t₩154,433\n",
    "요하네스버그\t5성급\t₩234,205\n",
    "스텔렌보스\t5성급\t₩156,269\n",
    "허머너스\t5성급\t₩187,033\n",
    "나이스나\t5성급\t₩174,801\n",
    "니아메\t3성급\t₩178,530\n",
    "마세루\t3성급\t₩59,524\n",
    "키갈리\t5성급\t₩339,863\n",
    "기세니\t3성급\t₩107,387\n",
    "루헹게리\t3성급\t₩114,571\n",
    "키부예\t3성급\t₩107,387\n",
    "안타나나리보\t3성급\t₩84,084\n",
    "생트마리\t3성급\t₩232,027\n",
    "마하장가\t3성급\t₩56,750\n",
    "노지베\t3성급\t₩127,321\n",
    "블랜타이어\t3성급\t₩116,387\n",
    "포트루이스\t5성급\t₩233,168\n",
    "누악쇼트 \t3성급\t₩88,496\n",
    "토포 \t3성급\t₩178,108\n",
    "코토누 \t3성급\t₩87,659\n",
    "가보로네 \t3성급\t₩100,598\n",
    "카사네 \t3성급\t₩637,414\n",
    "와가두구 \t5성급\t₩273,728\n",
    "다카르 \t5성급\t₩300,981\n",
    "보발롱 \t5성급\t₩519,686\n",
    "마에 \t5성급\t₩1,089,935\n",
    "음바바네 \t5성급\t₩180,319\n",
    "로밤바 \t5성급\t₩180,319\n",
    "루안다 \t5성급\t₩455,338\n",
    "아디스아바바 \t5성급\t₩200,872\n",
    "랄리벨라 \t3성급\t₩37,553\n",
    "캄팔라 \t5성급\t₩281,660\n",
    "엔테베 \t3성급\t₩127,160\n",
    "리빙스턴 \t3성급\t₩134,864\n",
    "루사카 \t5성급\t₩211,483\n",
    "하라레 \t5성급\t₩141,640\n",
    "불라와요 \t3성급\t₩95,320\n",
    "황게 \t3성급\t₩150,213\n",
    "산타마리아 \t5성급\t₩305,262\n",
    "민델루 \t3성급\t₩54,841\n",
    "프라이아 \t5성급\t₩646,039\n",
    "나이로비 \t5성급\t₩214,960\n",
    "몸바사 \t5성급\t₩182,819\n",
    "와타무 \t5성급\t₩398,064\n",
    "아비장 \t5성급\t₩399,191\n",
    "잔지바르시 \t5성급\t₩249,063\n",
    "모시 \t3성급\t₩85,728\n",
    "로메 \t5성급\t₩236,472"
   ]
  },
  {
   "cell_type": "code",
   "execution_count": null,
   "metadata": {
    "collapsed": true
   },
   "outputs": [],
   "source": [
    "#결과 안 나오는 것\n",
    "# \"발디비아\", \"아이센\", \"부카라망가\" (유해검색어 분류로 불가),\"퉁하\",\"아르메니아\", \"암바토\", \"이순시온\",\"San Bernardino\", \n",
    "#\"티레\", \"시돈\", \"아이트벤하도우\", \"제다\", \"팜주메이라\", \"푸자이라토후국\",\"야스\",\"알제\",\"팀가드\",\"와히바\", \"수르\", \"나칼\", \"페트라\", \n",
    "#\"아코\", \"시저이아\", \"쿠웨이트\", \"마트마타\", \"케이프코스트\", \"세스리엠\"\n",
    "#   \"와디럼\", \"앨카즈네\", \"시라즈\",\"야즈드\".\"카샨\",\"케슘\",\"카즈빈\",  \"나사렛\", \"티베리아스\",\"월브스베이\",\"프란쉬후크\",\n",
    "# \"아가데즈\", \"디에고수아레스\",\"이파티\",\"릴롱웨\",\"좀바\", \"플릭엥플랭크\",\"그란데바이예\",\"페레이베레\",\"벨마르\",\"그헝베\",\"마헤보그\",\n",
    "#  \"마푸토\",\"빌란쿨로\",\"마운\", \"방포라\", \"상투메\", \"포르투알레그레\",\"살리포르투달\",\"라디그\", \"프레슬린\",\"카르툼\",\"에즐위니\", \"빅토리아폴스\",\"살\",\n",
    "# \"눙귀\",\"잠비아니\", \"세렝게티\",\n",
    "# \"블루베이\""
   ]
  },
  {
   "cell_type": "code",
   "execution_count": 194,
   "metadata": {
    "scrolled": false
   },
   "outputs": [
    {
     "name": "stdout",
     "output_type": "stream",
     "text": [
      "Message: no such element: Unable to locate element: {\"method\":\"xpath\",\"selector\":\"//*[contains(text(), '평균가')]\"}\n",
      "  (Session info: chrome=65.0.3325.181)\n",
      "  (Driver info: chromedriver=2.37.544315 (730aa6a5fdba159ac9f4c1e8cbc59bf1b5ce12b7),platform=Windows NT 6.1.7601 SP1 x86_64)\n",
      "\n",
      "모시 \t ₩85,794\n",
      "로메 \t ₩236,653\n"
     ]
    }
   ],
   "source": [
    "driver= startWeb()\n",
    "sendkeys=[\"리마\", \"쿠스코\", \"아레키파\", \"아야쿠초\", \"산티아고\", \"코이아이케\", \"항가로아\", \"카스트로\", \"보고타\", \"메데인\", \"바랑키야\", \"카르타헤나\", \"칼리\", \"산타마르타\", \"비야비센시오\", \"파스토\", \"산안드레스\", \"쿠마나\", \"마라카이\", \"라과이라\", \"코로\", \"조지타운\", \"라파스\", \"수크레\", \"산타크루스\", \"파라마리보\", \"카토\", \"과야킬\", \"쿠엥카\", \"침보라소\", \"푸에르토아요라\", \"몬테비데오\", \"라스피에드라스\", \"아레과\", \"베이루트\", \"비블로스\", \"바알베크\", \"트리폴리\", \"자흘레\", \"마라케시\", \"페스\", \"카사블랑카\", \"탕헤르\", \"라바트\", \"에사우이라\", \"우아르자자트\", \"메크네스\", \"셰프샤우엔\", \"마나마\", \"무하라크\", \"리파\", \"시프\", \"애들리야\", \"메카\", \"메디나\", \"리야드\", \"담맘\", \"타이프\", \"코바르\", \"아브하\", \"타부크\", \"두바이\", \"아부다비\", \"샤르자\", \"알아인\", \"야스\", \"오랑\", \"콩스탕틴\", \"틀렘센\", \"안나바\", \"베자이아\", \"제밀라\", \"지젤\", \"모스타가넴\", \"무스카트\", \"살랄라\", \"니즈와\", \"하사브\", \"무트라\", \"바흐라\", \"암만\", \"아카바\", \"제라시\", \"카라크\", \"아질룬\", \"테헤란\", \"이스파한\", \"마슈하드\", \"예루살렘\", \"텔아비브\", \"에일라트\", \"하이파\", \"카이로\", \"룩소르\", \"기자\", \"알렉산드리아\", \"아스완\", \"후르가다\", \"샤름엘셰이크\", \"다합\", \"도하\", \"알와크라\", \"알코르\", \"살미야\", \"수스\", \"튀니스\", \"제르바\", \"함마메트\", \"시디부사이드\", \"카이르완\", \"모나스티르\", \"엘젬\", \"토죄르\", \"두즈\", \"비제르테\", \"이스탄불\", \"안탈리아\", \"이즈미르\", \"쿠샤다스\", \"괴레메\", \"보드룸\", \"앙카라\", \"페티예\", \"마르마리스\", \"알라니아\", \"코니아\", \"욀뤼데니즈\", \"아크라\", \"리브르빌\", \"스바코프문트\", \"빈트후크\", \"라고스\", \"이케자\", \"아부자\", \"케이프타운\", \"더반\", \"요하네스버그\", \"스텔렌보스\", \"허머너스\", \"나이스나\", \"니아메\", \"마세루\", \"키갈리\", \"기세니\", \"루헹게리\", \"키부예\", \"안타나나리보\", \"생트마리\", \"마하장가\", \"노지베\", \"블랜타이어\", \"포트루이스\", \"블루베이\", \"누악쇼트\", \"토포\", \"코토누\", \"가보로네\", \"카사네\", \"와가두구\", \"다카르\", \"보발롱\", \"마에\", \"음바바네\", \"로밤바\", \"루안다\", \"아디스아바바\", \"랄리벨라\", \"캄팔라\", \"엔테베\", \"리빙스턴\", \"루사카\", \"하라레\", \"불라와요\", \"황게\", \"산타마리아\", \"민델루\", \"프라이아\", \"나이로비\", \"몸바사\", \"와타무\", \"아비장\", \"잔지바르시\", \"모시\", \"로메\"]\n",
    "\n",
    "for sendKey in sendkeys:\n",
    "    searchPlace(sendKey)\n",
    "    \n",
    "driver.close()\n",
    "#driver.quit()"
   ]
  },
  {
   "cell_type": "code",
   "execution_count": 26,
   "metadata": {
    "collapsed": true
   },
   "outputs": [],
   "source": [
    "!start ."
   ]
  },
  {
   "cell_type": "code",
   "execution_count": null,
   "metadata": {
    "collapsed": true
   },
   "outputs": [],
   "source": []
  },
  {
   "cell_type": "markdown",
   "metadata": {},
   "source": [
    "# 실행코드만"
   ]
  },
  {
   "cell_type": "code",
   "execution_count": 2,
   "metadata": {
    "collapsed": true
   },
   "outputs": [],
   "source": [
    "from selenium import webdriver\n",
    "from selenium.webdriver.common.by import By\n",
    "from selenium.webdriver.common.keys import Keys\n",
    "\n",
    "from selenium.webdriver.support.ui import WebDriverWait\n",
    "from selenium.webdriver.support import expected_conditions as EC\n",
    "\n",
    "import os.path\n",
    "from os import rename\n",
    "from os import listdir\n",
    "\n",
    "import time"
   ]
  },
  {
   "cell_type": "code",
   "execution_count": 3,
   "metadata": {
    "collapsed": true
   },
   "outputs": [],
   "source": [
    "def startWeb():\n",
    "    \"\"\"\n",
    "    @return driver\n",
    "    \"\"\"\n",
    "    driver= webdriver.Chrome('lib/chromedriver.exe')\n",
    "    url= \"https://www.google.co.kr/destination\"\n",
    "    driver.get(url)\n",
    "    return driver"
   ]
  },
  {
   "cell_type": "code",
   "execution_count": 4,
   "metadata": {
    "collapsed": true
   },
   "outputs": [],
   "source": [
    "## 아마 이러면 될걸\n",
    "def searchPlace(sendKey):\n",
    "    try:\n",
    "        myXpath= '//div[@class=\"gb_nf\"]/input[@class=\"gb_6e\"]'\n",
    "        #element= driver.find_element_by_xpath(myXpath)\n",
    "        #time.sleep(1)\n",
    "        element= WebDriverWait(driver, 3).until(\n",
    "            EC.presence_of_element_located((By.XPATH, myXpath))\n",
    "        )\n",
    "    except Exception as e:\n",
    "        print('error',e)\n",
    "        driver.get(url)\n",
    "\n",
    "        element.clear()\n",
    "        #sendKeys= \"몸바사\"\n",
    "        element.send_keys(sendKey)\n",
    "        time.sleep(2)\n",
    "        element.send_keys(Keys.ENTER)\n",
    "    try:\n",
    "        #element= driver.find_element_by_xpath(\"//*[contains(text(), '평균가')]\")\n",
    "        myXpath= \"//*[contains(text(), '평균가')]\"\n",
    "        element= WebDriverWait(driver, 3).until(\n",
    "            EC.presence_of_element_located((By.XPATH, myXpath))\n",
    "        )\n",
    "        text= element.text.split(' ')#[-1]\n",
    "        time.sleep(1)\n",
    "        #print(sendKey,'\\t',text)\n",
    "        print(sendKey,'\\t',text[0], text[-1])\n",
    "    except Exception as ex:\n",
    "        print(ex)\n",
    "        #driver.close()\n",
    "        pass"
   ]
  },
  {
   "cell_type": "code",
   "execution_count": 4,
   "metadata": {
    "collapsed": true
   },
   "outputs": [],
   "source": [
    "def searchPlace(sendKey):\n",
    "    myXpath= '//div[@class=\"gb_nf\"]/input[@class=\"gb_6e\"]'\n",
    "    element= driver.find_element_by_xpath(myXpath)\n",
    "    time.sleep(1)\n",
    "    element.clear()\n",
    "    #sendKeys= \"몸바사\"\n",
    "    element.send_keys(sendKey)\n",
    "    time.sleep(2)\n",
    "    element.send_keys(Keys.ENTER)\n",
    "    try:\n",
    "        #element= driver.find_element_by_xpath(\"//*[contains(text(), '\\\\')]\")\n",
    "        element= driver.find_element_by_xpath(\"//*[contains(text(), '평균가')]\")\n",
    "        text= element.text.split(' ')#[-1]\n",
    "        time.sleep(1)\n",
    "        #print(sendKey,'\\t',text)\n",
    "        print(sendKey,'\\t',text[0], text[-1])\n",
    "    except Exception as ex:\n",
    "        print(ex)\n",
    "        #driver.close()\n",
    "        pass"
   ]
  },
  {
   "cell_type": "code",
   "execution_count": 6,
   "metadata": {},
   "outputs": [
    {
     "name": "stdout",
     "output_type": "stream",
     "text": [
      "누악쇼트 \t 3성급 ₩88,496\n",
      "토포 \t 3성급 ₩178,108\n",
      "코토누 \t 3성급 ₩87,659\n",
      "가보로네 \t 3성급 ₩100,598\n",
      "카사네 \t 3성급 ₩637,414\n",
      "와가두구 \t 5성급 ₩273,728\n",
      "다카르 \t 5성급 ₩300,981\n",
      "보발롱 \t 5성급 ₩519,686\n",
      "마에 \t 5성급 ₩1,089,935\n",
      "음바바네 \t 5성급 ₩180,319\n",
      "로밤바 \t 5성급 ₩180,319\n",
      "루안다 \t 5성급 ₩455,338\n",
      "아디스아바바 \t 5성급 ₩200,872\n",
      "랄리벨라 \t 3성급 ₩37,553\n",
      "캄팔라 \t 5성급 ₩281,660\n",
      "엔테베 \t 3성급 ₩127,160\n",
      "리빙스턴 \t 3성급 ₩134,864\n",
      "루사카 \t 5성급 ₩211,483\n",
      "하라레 \t 5성급 ₩141,640\n",
      "불라와요 \t 3성급 ₩95,320\n",
      "황게 \t 3성급 ₩150,213\n",
      "산타마리아 \t 5성급 ₩305,262\n",
      "민델루 \t 3성급 ₩54,841\n",
      "프라이아 \t 5성급 ₩646,039\n",
      "나이로비 \t 5성급 ₩214,960\n",
      "몸바사 \t 5성급 ₩182,819\n",
      "와타무 \t 5성급 ₩398,064\n",
      "아비장 \t 5성급 ₩399,191\n",
      "잔지바르시 \t 5성급 ₩249,063\n",
      "모시 \t 3성급 ₩85,728\n",
      "로메 \t 5성급 ₩236,472\n"
     ]
    }
   ],
   "source": [
    "driver= startWeb()\n",
    "#sendkeys=[\"리마\", \"쿠스코\", \"아레키파\", \"아야쿠초\", \"산티아고\", \"코이아이케\", \"항가로아\", \"카스트로\", \"보고타\", \"메데인\", \"바랑키야\", \"카르타헤나\", \"칼리\", \"산타마르타\", \"비야비센시오\", \"파스토\", \"산안드레스\", \"쿠마나\", \"마라카이\", \"라과이라\", \"코로\", \"조지타운\", \"라파스\", \"수크레\", \"산타크루스\", \"파라마리보\", \"카토\", \"과야킬\", \"쿠엥카\", \"침보라소\", \"푸에르토아요라\", \"몬테비데오\", \"라스피에드라스\", \"아레과\", \"베이루트\", \"비블로스\", \"바알베크\", \"트리폴리\", \"자흘레\", \"마라케시\", \"페스\", \"카사블랑카\", \"탕헤르\", \"라바트\", \"에사우이라\", \"우아르자자트\", \"메크네스\", \"셰프샤우엔\", \"마나마\", \"무하라크\", \"리파\", \"시프\", \"애들리야\", \"메카\", \"메디나\", \"리야드\", \"담맘\", \"타이프\", \"코바르\", \"아브하\", \"타부크\", \"두바이\", \"아부다비\", \"샤르자\", \"알아인\", \"야스\", \"오랑\", \"콩스탕틴\", \"틀렘센\", \"안나바\", \"베자이아\", \"제밀라\", \"지젤\", \"모스타가넴\", \"무스카트\", \"살랄라\", \"니즈와\", \"하사브\", \"무트라\", \"바흐라\", \"암만\", \"아카바\", \"제라시\", \"카라크\", \"아질룬\", \"테헤란\", \"이스파한\", \"마슈하드\", \"예루살렘\", \"텔아비브\", \"에일라트\", \"하이파\", \"카이로\", \"룩소르\", \"기자\", \"알렉산드리아\", \"아스완\", \"후르가다\", \"샤름엘셰이크\", \"다합\", \"도하\", \"알와크라\", \"알코르\", \"살미야\", \"수스\", \"튀니스\", \"제르바\", \"함마메트\", \"시디부사이드\", \"카이르완\", \"모나스티르\", \"엘젬\", \"토죄르\", \"두즈\", \"비제르테\", \"이스탄불\", \"안탈리아\", \"이즈미르\", \"쿠샤다스\", \"괴레메\", \"보드룸\", \"앙카라\", \"페티예\", \"마르마리스\", \"알라니아\", \"코니아\", \"욀뤼데니즈\", \"아크라\", \"리브르빌\", \"스바코프문트\", \"빈트후크\", \"라고스\", \"이케자\", \"아부자\", \"케이프타운\", \"더반\", \"요하네스버그\", \"스텔렌보스\", \"허머너스\", \"나이스나\", \"니아메\", \"마세루\", \"키갈리\", \"기세니\", \"루헹게리\", \"키부예\", \"안타나나리보\", \"생트마리\", \"마하장가\", \"노지베\", \"블랜타이어\", \"포트루이스\"]\n",
    "sendkeys= [ \"누악쇼트\", \"토포\", \"코토누\", \"가보로네\", \"카사네\", \"와가두구\", \"다카르\", \"보발롱\", \"마에\", \"음바바네\", \"로밤바\", \"루안다\", \"아디스아바바\", \"랄리벨라\", \"캄팔라\", \"엔테베\", \"리빙스턴\", \"루사카\", \"하라레\", \"불라와요\", \"황게\", \"산타마리아\", \"민델루\", \"프라이아\", \"나이로비\", \"몸바사\", \"와타무\", \"아비장\", \"잔지바르시\", \"모시\", \"로메\"]\n",
    "\n",
    "for sendKey in sendkeys:\n",
    "    searchPlace(sendKey)\n",
    "    \n",
    "driver.close()\n",
    "#driver.quit()"
   ]
  },
  {
   "cell_type": "code",
   "execution_count": null,
   "metadata": {
    "collapsed": true
   },
   "outputs": [],
   "source": []
  }
 ],
 "metadata": {
  "kernelspec": {
   "display_name": "Python 3",
   "language": "python",
   "name": "python3"
  },
  "language_info": {
   "codemirror_mode": {
    "name": "ipython",
    "version": 3
   },
   "file_extension": ".py",
   "mimetype": "text/x-python",
   "name": "python",
   "nbconvert_exporter": "python",
   "pygments_lexer": "ipython3",
   "version": "3.6.3"
  }
 },
 "nbformat": 4,
 "nbformat_minor": 2
}
